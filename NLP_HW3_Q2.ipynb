{
  "nbformat": 4,
  "nbformat_minor": 0,
  "metadata": {
    "colab": {
      "name": "NLP-HW3-Q2.ipynb",
      "provenance": [],
      "collapsed_sections": [],
      "toc_visible": true,
      "authorship_tag": "ABX9TyPiB6zBt3DLvBqvWjqUcWma",
      "include_colab_link": true
    },
    "kernelspec": {
      "name": "python3",
      "display_name": "Python 3"
    },
    "language_info": {
      "name": "python"
    }
  },
  "cells": [
    {
      "cell_type": "markdown",
      "metadata": {
        "id": "view-in-github",
        "colab_type": "text"
      },
      "source": [
        "<a href=\"https://colab.research.google.com/github/AUT-Student/NLP-HW3/blob/main/NLP_HW3_Q2.ipynb\" target=\"_parent\"><img src=\"https://colab.research.google.com/assets/colab-badge.svg\" alt=\"Open In Colab\"/></a>"
      ]
    },
    {
      "cell_type": "markdown",
      "source": [
        "# Libraries"
      ],
      "metadata": {
        "id": "PDHYaymPspGE"
      }
    },
    {
      "cell_type": "code",
      "source": [
        "import numpy as np\n",
        "import pandas as pd\n",
        "\n",
        "from gensim.models.word2vec import Word2Vec\n",
        "import gensim.downloader as gensim_api\n",
        "\n",
        "import tensorflow as tf\n",
        "import tensorflow.keras as keras\n",
        "from keras.layers import LSTM, Dense, Input, Embedding, Bidirectional, TimeDistributed\n",
        "from keras.callbacks import EarlyStopping\n",
        "from keras.models import Sequential\n",
        "from keras import backend as K"
      ],
      "metadata": {
        "id": "4MrF0WJNsrSq"
      },
      "execution_count": 44,
      "outputs": []
    },
    {
      "cell_type": "markdown",
      "source": [
        "# Dataset"
      ],
      "metadata": {
        "id": "sw8b4NRMsmu-"
      }
    },
    {
      "cell_type": "code",
      "execution_count": 18,
      "metadata": {
        "colab": {
          "base_uri": "https://localhost:8080/"
        },
        "id": "qZY9QbGJsacm",
        "outputId": "f4433699-90ff-4e63-f319-fef6957a4ce8"
      },
      "outputs": [
        {
          "output_type": "stream",
          "name": "stdout",
          "text": [
            "Downloading...\n",
            "From: https://drive.google.com/uc?id=11WeeMttH6I6MJ0t1h7FVSEtw0lKwpRA6\n",
            "To: /content/dev.conll\n",
            "100% 478k/478k [00:00<00:00, 37.0MB/s]\n",
            "Downloading...\n",
            "From: https://drive.google.com/uc?id=1gLGNxjQzy6C8y4Oivr8etU1MMGfuKuEE\n",
            "To: /content/test.conll\n",
            "100% 677k/677k [00:00<00:00, 56.4MB/s]\n",
            "Downloading...\n",
            "From: https://drive.google.com/uc?id=127-sOeW6KMf6XNSAVM3bGjfwnmW0NciU\n",
            "To: /content/train.conll\n",
            "100% 11.4M/11.4M [00:00<00:00, 241MB/s]\n"
          ]
        }
      ],
      "source": [
        "!gdown 11WeeMttH6I6MJ0t1h7FVSEtw0lKwpRA6\n",
        "!gdown 1gLGNxjQzy6C8y4Oivr8etU1MMGfuKuEE\n",
        "!gdown 127-sOeW6KMf6XNSAVM3bGjfwnmW0NciU"
      ]
    },
    {
      "cell_type": "code",
      "source": [
        "def dependency_create(row):\n",
        "  dependency_index = row[\"DependencyIndex\"]\n",
        "  index = row[\"Index\"]\n",
        "\n",
        "  if dependency_index == 0:\n",
        "    return \"Root\"\n",
        "  else:\n",
        "    different = dependency_index - index\n",
        "\n",
        "    if different > 0:\n",
        "      return f\"{different}R\"\n",
        "    elif different < 0:\n",
        "      return f\"{abs(different)}L\"\n",
        "    else:\n",
        "      raise Exception(row)"
      ],
      "metadata": {
        "id": "qssCLRjyiz7v"
      },
      "execution_count": 19,
      "outputs": []
    },
    {
      "cell_type": "code",
      "source": [
        "def load_and_preprocess_dataset(path):\n",
        "  dataset = pd.read_csv(path, delimiter=\"\\t\", header=None, names=[\"Index\", \"Word\", \"DependencyIndex\"])\n",
        "  dataset = dataset.dropna()\n",
        "  dataset[\"Index\"] = dataset[\"Index\"].astype(int)\n",
        "  dataset[\"DependencyIndex\"] = dataset[\"DependencyIndex\"].astype(int)\n",
        "  dataset[\"Dependency\"] = dataset.apply(dependency_create, axis=1)\n",
        "\n",
        "  return dataset"
      ],
      "metadata": {
        "id": "V3CkceiVuUm3"
      },
      "execution_count": 20,
      "outputs": []
    },
    {
      "cell_type": "code",
      "source": [
        "train_dataset = load_and_preprocess_dataset(\"/content/train.conll\")\n",
        "valid_dataset = load_and_preprocess_dataset(\"/content/dev.conll\")\n",
        "test_dataset = load_and_preprocess_dataset(\"/content/test.conll\")"
      ],
      "metadata": {
        "id": "QiMnRVuuszxO"
      },
      "execution_count": 21,
      "outputs": []
    },
    {
      "cell_type": "code",
      "source": [
        "label_dictionary = {\"PAD\": 0}\n",
        "\n",
        "for i, label in enumerate(set(train_dataset[\"Dependency\"].values.tolist() +\n",
        "                              valid_dataset[\"Dependency\"].values.tolist() +\n",
        "                              test_dataset[\"Dependency\"].values.tolist())):\n",
        "  label_dictionary[label] = i+1"
      ],
      "metadata": {
        "id": "nHeb23kj5mzS"
      },
      "execution_count": 22,
      "outputs": []
    },
    {
      "cell_type": "code",
      "source": [
        "len(label_dictionary)"
      ],
      "metadata": {
        "colab": {
          "base_uri": "https://localhost:8080/"
        },
        "id": "S7VgSz3KqMvg",
        "outputId": "f8bc6494-234a-4bb9-ba95-31cf76278132"
      },
      "execution_count": 23,
      "outputs": [
        {
          "output_type": "execute_result",
          "data": {
            "text/plain": [
              "159"
            ]
          },
          "metadata": {},
          "execution_count": 23
        }
      ]
    },
    {
      "cell_type": "code",
      "source": [
        "max(max(train_dataset[\"Index\"].values), max(valid_dataset[\"Index\"].values), max(test_dataset[\"Index\"].values))"
      ],
      "metadata": {
        "colab": {
          "base_uri": "https://localhost:8080/"
        },
        "id": "FoePuY3FQX31",
        "outputId": "7716e1ef-219d-41e1-9a66-23653008583a"
      },
      "execution_count": 24,
      "outputs": [
        {
          "output_type": "execute_result",
          "data": {
            "text/plain": [
              "141"
            ]
          },
          "metadata": {},
          "execution_count": 24
        }
      ]
    },
    {
      "cell_type": "code",
      "source": [
        "def convert_to_sequence(dataset):\n",
        "  sequenced_dataset = []\n",
        "\n",
        "  for i, item in dataset.iterrows():\n",
        "    if item[\"Index\"] == 1:\n",
        "      if i>0:\n",
        "        sequenced_dataset.append({\"Words\": new_words, \"Labels\": new_labels})\n",
        "      new_words = [item[\"Word\"]]\n",
        "      new_labels = [item[\"Dependency\"]]\n",
        "    else:\n",
        "      new_words.append(item[\"Word\"])\n",
        "      new_labels.append(item[\"Dependency\"])\n",
        "  \n",
        "  sequenced_dataset.append({\"Words\": new_words, \"Labels\": new_labels})\n",
        "  return pd.DataFrame(sequenced_dataset)"
      ],
      "metadata": {
        "id": "HOJ3BPYVQ-Kx"
      },
      "execution_count": 25,
      "outputs": []
    },
    {
      "cell_type": "code",
      "source": [
        "train_dataset = convert_to_sequence(train_dataset)\n",
        "valid_dataset = convert_to_sequence(valid_dataset)\n",
        "test_dataset = convert_to_sequence(test_dataset)"
      ],
      "metadata": {
        "id": "6FGsGs15S7OM"
      },
      "execution_count": 26,
      "outputs": []
    },
    {
      "cell_type": "markdown",
      "source": [
        "# Word2Vec"
      ],
      "metadata": {
        "id": "GbT_BSCkslbl"
      }
    },
    {
      "cell_type": "code",
      "source": [
        "print(gensim_api.load(\"word2vec-google-news-300\", return_path=True))"
      ],
      "metadata": {
        "colab": {
          "base_uri": "https://localhost:8080/"
        },
        "id": "YUxKJP4Ir78e",
        "outputId": "5641f906-a4b7-42a0-8c2c-ec7ab557bccb"
      },
      "execution_count": 27,
      "outputs": [
        {
          "output_type": "stream",
          "name": "stdout",
          "text": [
            "/root/gensim-data/word2vec-google-news-300/word2vec-google-news-300.gz\n"
          ]
        }
      ]
    },
    {
      "cell_type": "code",
      "source": [
        "word2vec_model = gensim_api.load(\"word2vec-google-news-300\")"
      ],
      "metadata": {
        "id": "P2IuiFpbsYOE"
      },
      "execution_count": 28,
      "outputs": []
    },
    {
      "cell_type": "code",
      "source": [
        "def apply_embedding(row):\n",
        "  vectors = []\n",
        "  for word in row[\"Words\"]:\n",
        "    try:\n",
        "      vector = word2vec_model.get_vector(word)\n",
        "    except KeyError:\n",
        "      vector = np.zeros(300)\n",
        "    vectors.append(vector)\n",
        "\n",
        "  for i in range(141-len(row[\"Words\"])):\n",
        "    vectors.append(np.zeros(300))\n",
        "\n",
        "  return np.stack(vectors)"
      ],
      "metadata": {
        "id": "jdN6kgdj2dms"
      },
      "execution_count": 29,
      "outputs": []
    },
    {
      "cell_type": "code",
      "source": [
        "def apply_label_index(row):\n",
        "  labels = []\n",
        "  for label in row[\"Labels\"]:\n",
        "    labels.append(label_dictionary[label])\n",
        "\n",
        "  for i in range(141-len(row[\"Labels\"])):\n",
        "    labels.append(label_dictionary[\"PAD\"])\n",
        "  \n",
        "  return np.stack(labels)"
      ],
      "metadata": {
        "id": "oLgSh1_Y6p5J"
      },
      "execution_count": 30,
      "outputs": []
    },
    {
      "cell_type": "code",
      "source": [
        "valid_dataset[\"Vector\"] = valid_dataset.apply(apply_embedding, axis=1)\n",
        "valid_dataset[\"LabelIndex\"] = valid_dataset.apply(apply_label_index, axis=1)\n",
        "test_dataset[\"Vector\"] = test_dataset.apply(apply_embedding, axis=1)\n",
        "test_dataset[\"LabelIndex\"] = test_dataset.apply(apply_label_index, axis=1)"
      ],
      "metadata": {
        "id": "vM8Xti0BEK3C"
      },
      "execution_count": 42,
      "outputs": []
    },
    {
      "cell_type": "code",
      "source": [
        "train_dataset = train_dataset.iloc[:1700]\n",
        "\n",
        "train_dataset[\"Vector\"] = train_dataset.apply(apply_embedding, axis=1)\n",
        "train_dataset[\"LabelIndex\"] = train_dataset.apply(apply_label_index, axis=1)"
      ],
      "metadata": {
        "id": "o7JddyJTyo7F",
        "colab": {
          "base_uri": "https://localhost:8080/"
        },
        "outputId": "68f94c89-c2d1-489e-cf42-e56761bfc34c"
      },
      "execution_count": 40,
      "outputs": [
        {
          "output_type": "stream",
          "name": "stderr",
          "text": [
            "/usr/local/lib/python3.7/dist-packages/ipykernel_launcher.py:3: SettingWithCopyWarning: \n",
            "A value is trying to be set on a copy of a slice from a DataFrame.\n",
            "Try using .loc[row_indexer,col_indexer] = value instead\n",
            "\n",
            "See the caveats in the documentation: https://pandas.pydata.org/pandas-docs/stable/user_guide/indexing.html#returning-a-view-versus-a-copy\n",
            "  This is separate from the ipykernel package so we can avoid doing imports until\n",
            "/usr/local/lib/python3.7/dist-packages/ipykernel_launcher.py:4: SettingWithCopyWarning: \n",
            "A value is trying to be set on a copy of a slice from a DataFrame.\n",
            "Try using .loc[row_indexer,col_indexer] = value instead\n",
            "\n",
            "See the caveats in the documentation: https://pandas.pydata.org/pandas-docs/stable/user_guide/indexing.html#returning-a-view-versus-a-copy\n",
            "  after removing the cwd from sys.path.\n"
          ]
        }
      ]
    },
    {
      "cell_type": "markdown",
      "source": [
        "# BiLSTM Model"
      ],
      "metadata": {
        "id": "JoWZ32S5ojMA"
      }
    },
    {
      "cell_type": "code",
      "source": [
        "class BiLSTM(keras.Model):\n",
        "  def __init__(self):\n",
        "    super().__init__()\n",
        "    self.model = Sequential([\n",
        "                             Input((141, 300)),\n",
        "                             Bidirectional(LSTM(32, return_sequences=True)),\n",
        "                             TimeDistributed(Dense(159, activation=\"softmax\"))\n",
        "    ])\n",
        "  \n",
        "  def call(self, inputs):\n",
        "    return self.model(inputs)"
      ],
      "metadata": {
        "id": "nTHIJe_mgumH"
      },
      "execution_count": 45,
      "outputs": []
    },
    {
      "cell_type": "code",
      "source": [
        "def ignore_class_accuracy(to_ignore=0):\n",
        "   # Refrence: https://nlpforhackers.io/lstm-pos-tagger-keras/\n",
        "  \n",
        "  def ignore_accuracy(y_true, y_pred):\n",
        "    y_pred_class = K.argmax(y_pred, axis=-1)\n",
        "    y_true_class = K.argmax(y_true, axis=-1)\n",
        "    y_true_class = K.cast(y_true, \"int64\")\n",
        "\n",
        "    ignore_mask = K.cast(K.not_equal(y_pred_class, to_ignore), 'int32')\n",
        "    matches = K.cast(K.equal(y_true_class, y_pred_class), 'int32') * ignore_mask\n",
        "    accuracy = K.sum(matches) / K.maximum(K.sum(ignore_mask), 1)\n",
        "    return accuracy\n",
        "  \n",
        "  return ignore_accuracy"
      ],
      "metadata": {
        "id": "sA7CLu_kDfdp"
      },
      "execution_count": 46,
      "outputs": []
    },
    {
      "cell_type": "code",
      "source": [
        "bilstm_model = BiLSTM()"
      ],
      "metadata": {
        "id": "o7xMgHlm9JiI"
      },
      "execution_count": 47,
      "outputs": []
    },
    {
      "cell_type": "code",
      "source": [
        "bilstm_model.compile(optimizer=\"Adam\", loss=\"sparse_categorical_crossentropy\", metrics=[\"Accuracy\", ignore_class_accuracy(0)])"
      ],
      "metadata": {
        "id": "x-OEj3RmzCjm"
      },
      "execution_count": 48,
      "outputs": []
    },
    {
      "cell_type": "code",
      "source": [
        "es_callback = EarlyStopping(monitor=\"val_loss\", patience=4, restore_best_weights=True)"
      ],
      "metadata": {
        "id": "u8FqSJKR0OvT"
      },
      "execution_count": 49,
      "outputs": []
    },
    {
      "cell_type": "code",
      "source": [
        "bilstm_model.fit(x=np.stack(train_dataset[\"Vector\"].values),\n",
        "                 y=np.stack(train_dataset[\"LabelIndex\"].values),\n",
        "                 epochs=10,\n",
        "                 validation_data=(np.stack(valid_dataset[\"Vector\"].values),\n",
        "                                  np.stack(valid_dataset[\"LabelIndex\"].values)))"
      ],
      "metadata": {
        "colab": {
          "base_uri": "https://localhost:8080/"
        },
        "id": "7djjTkcG0m9p",
        "outputId": "9c4fedd9-75bb-4200-9514-abf4f482bbb0"
      },
      "execution_count": null,
      "outputs": [
        {
          "output_type": "stream",
          "name": "stdout",
          "text": [
            "Epoch 1/10\n",
            "Tensor(\"Cast_5:0\", shape=(None, 141), dtype=float32)\n",
            "Tensor(\"bi_lstm_1/sequential_1/time_distributed_1/Reshape_1:0\", shape=(None, 141, 159), dtype=float32)\n",
            "Tensor(\"strided_slice_1:0\", shape=(141,), dtype=float32)\n",
            "Tensor(\"strided_slice_2:0\", shape=(141, 159), dtype=float32)\n",
            "Tensor(\"Cast_5:0\", shape=(None, 141), dtype=float32)\n",
            "Tensor(\"bi_lstm_1/sequential_1/time_distributed_1/Reshape_1:0\", shape=(None, 141, 159), dtype=float32)\n",
            "Tensor(\"strided_slice_1:0\", shape=(141,), dtype=float32)\n",
            "Tensor(\"strided_slice_2:0\", shape=(141, 159), dtype=float32)\n",
            "54/54 [==============================] - ETA: 0s - loss: 3.2709 - Accuracy: 0.8175 - ignore_accuracy: 0.0962Tensor(\"Cast_5:0\", shape=(None, 141), dtype=float32)\n",
            "Tensor(\"bi_lstm_1/sequential_1/time_distributed_1/Reshape_1:0\", shape=(None, 141, 159), dtype=float32)\n",
            "Tensor(\"strided_slice_1:0\", shape=(141,), dtype=float32)\n",
            "Tensor(\"strided_slice_2:0\", shape=(141, 159), dtype=float32)\n",
            "54/54 [==============================] - 18s 234ms/step - loss: 3.2709 - Accuracy: 0.8175 - ignore_accuracy: 0.0962 - val_loss: 0.7588 - val_Accuracy: 0.8327 - val_ignore_accuracy: 0.0596\n",
            "Epoch 2/10\n",
            "54/54 [==============================] - 11s 206ms/step - loss: 0.6055 - Accuracy: 0.8601 - ignore_accuracy: 0.3049 - val_loss: 0.5198 - val_Accuracy: 0.8782 - val_ignore_accuracy: 0.3116\n",
            "Epoch 3/10\n",
            "54/54 [==============================] - 11s 206ms/step - loss: 0.5102 - Accuracy: 0.8745 - ignore_accuracy: 0.3089 - val_loss: 0.4814 - val_Accuracy: 0.8792 - val_ignore_accuracy: 0.3089\n",
            "Epoch 4/10\n",
            "54/54 [==============================] - 12s 219ms/step - loss: 0.4820 - Accuracy: 0.8753 - ignore_accuracy: 0.3074 - val_loss: 0.4608 - val_Accuracy: 0.8799 - val_ignore_accuracy: 0.3056\n",
            "Epoch 5/10\n",
            "54/54 [==============================] - 11s 201ms/step - loss: 0.4637 - Accuracy: 0.8757 - ignore_accuracy: 0.3058 - val_loss: 0.4453 - val_Accuracy: 0.8803 - val_ignore_accuracy: 0.3062\n",
            "Epoch 6/10\n",
            "54/54 [==============================] - 11s 207ms/step - loss: 0.4486 - Accuracy: 0.8765 - ignore_accuracy: 0.3074 - val_loss: 0.4319 - val_Accuracy: 0.8819 - val_ignore_accuracy: 0.3138\n",
            "Epoch 7/10\n",
            "54/54 [==============================] - 12s 215ms/step - loss: 0.4350 - Accuracy: 0.8792 - ignore_accuracy: 0.3224 - val_loss: 0.4204 - val_Accuracy: 0.8854 - val_ignore_accuracy: 0.3352\n",
            "Epoch 8/10\n",
            "54/54 [==============================] - 11s 205ms/step - loss: 0.4232 - Accuracy: 0.8822 - ignore_accuracy: 0.3411 - val_loss: 0.4106 - val_Accuracy: 0.8873 - val_ignore_accuracy: 0.3469\n",
            "Epoch 9/10\n",
            "54/54 [==============================] - 12s 219ms/step - loss: 0.4131 - Accuracy: 0.8846 - ignore_accuracy: 0.3538 - val_loss: 0.4022 - val_Accuracy: 0.8895 - val_ignore_accuracy: 0.3606\n",
            "Epoch 10/10\n",
            "54/54 [==============================] - 11s 206ms/step - loss: 0.4043 - Accuracy: 0.8866 - ignore_accuracy: 0.3659 - val_loss: 0.3948 - val_Accuracy: 0.8906 - val_ignore_accuracy: 0.3663\n"
          ]
        }
      ]
    },
    {
      "cell_type": "code",
      "source": [
        ""
      ],
      "metadata": {
        "id": "Jflo1jNA2aJF"
      },
      "execution_count": null,
      "outputs": []
    }
  ]
}