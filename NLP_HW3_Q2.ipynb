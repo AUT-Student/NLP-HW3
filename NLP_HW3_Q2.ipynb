{
  "nbformat": 4,
  "nbformat_minor": 0,
  "metadata": {
    "colab": {
      "name": "NLP-HW3-Q2.ipynb",
      "provenance": [],
      "collapsed_sections": [],
      "toc_visible": true,
      "authorship_tag": "ABX9TyNv96VTg2XLgjjwFJvTISWh",
      "include_colab_link": true
    },
    "kernelspec": {
      "name": "python3",
      "display_name": "Python 3"
    },
    "language_info": {
      "name": "python"
    },
    "accelerator": "GPU"
  },
  "cells": [
    {
      "cell_type": "markdown",
      "metadata": {
        "id": "view-in-github",
        "colab_type": "text"
      },
      "source": [
        "<a href=\"https://colab.research.google.com/github/AUT-Student/NLP-HW3/blob/main/NLP_HW3_Q2.ipynb\" target=\"_parent\"><img src=\"https://colab.research.google.com/assets/colab-badge.svg\" alt=\"Open In Colab\"/></a>"
      ]
    },
    {
      "cell_type": "markdown",
      "source": [
        "# Libraries"
      ],
      "metadata": {
        "id": "PDHYaymPspGE"
      }
    },
    {
      "cell_type": "code",
      "source": [
        "import numpy as np\n",
        "import pandas as pd\n",
        "import matplotlib.pyplot as plt\n",
        "import math\n",
        "from sklearn.metrics import confusion_matrix, recall_score, precision_score, accuracy_score\n",
        "\n",
        "from gensim.models.word2vec import Word2Vec\n",
        "import gensim.downloader as gensim_api\n",
        "\n",
        "import tensorflow as tf\n",
        "import tensorflow.keras as keras\n",
        "from keras.layers import LSTM, GRU, Dense, Input, Embedding, Dropout\n",
        "from keras.layers import Bidirectional, TimeDistributed\n",
        "from keras.callbacks import EarlyStopping\n",
        "from keras.models import Sequential\n",
        "from keras import backend as K\n",
        "from keras.optimizer_v2.adam import Adam"
      ],
      "metadata": {
        "id": "4MrF0WJNsrSq"
      },
      "execution_count": 1,
      "outputs": []
    },
    {
      "cell_type": "markdown",
      "source": [
        "# Dataset"
      ],
      "metadata": {
        "id": "sw8b4NRMsmu-"
      }
    },
    {
      "cell_type": "code",
      "execution_count": 2,
      "metadata": {
        "id": "qZY9QbGJsacm",
        "colab": {
          "base_uri": "https://localhost:8080/"
        },
        "outputId": "f83f509d-37bb-4c82-9127-6027f8e046c7"
      },
      "outputs": [
        {
          "output_type": "stream",
          "name": "stdout",
          "text": [
            "Downloading...\n",
            "From: https://drive.google.com/uc?id=11WeeMttH6I6MJ0t1h7FVSEtw0lKwpRA6\n",
            "To: /content/dev.conll\n",
            "100% 478k/478k [00:00<00:00, 40.4MB/s]\n",
            "Downloading...\n",
            "From: https://drive.google.com/uc?id=1gLGNxjQzy6C8y4Oivr8etU1MMGfuKuEE\n",
            "To: /content/test.conll\n",
            "100% 677k/677k [00:00<00:00, 96.8MB/s]\n",
            "Downloading...\n",
            "From: https://drive.google.com/uc?id=127-sOeW6KMf6XNSAVM3bGjfwnmW0NciU\n",
            "To: /content/train.conll\n",
            "100% 11.4M/11.4M [00:00<00:00, 80.1MB/s]\n"
          ]
        }
      ],
      "source": [
        "!gdown 11WeeMttH6I6MJ0t1h7FVSEtw0lKwpRA6\n",
        "!gdown 1gLGNxjQzy6C8y4Oivr8etU1MMGfuKuEE\n",
        "!gdown 127-sOeW6KMf6XNSAVM3bGjfwnmW0NciU"
      ]
    },
    {
      "cell_type": "code",
      "source": [
        "def dependency_create(row):\n",
        "  dependency_index = row[\"DependencyIndex\"]\n",
        "  index = row[\"Index\"]\n",
        "\n",
        "  if dependency_index == 0:\n",
        "    return \"Root\"\n",
        "  else:\n",
        "    different = dependency_index - index\n",
        "\n",
        "    if different > 0:\n",
        "      return f\"{different}R\"\n",
        "    elif different < 0:\n",
        "      return f\"{abs(different)}L\"\n",
        "    else:\n",
        "      raise Exception(row)"
      ],
      "metadata": {
        "id": "qssCLRjyiz7v"
      },
      "execution_count": 3,
      "outputs": []
    },
    {
      "cell_type": "code",
      "source": [
        "def load_and_preprocess_dataset(path):\n",
        "  dataset = pd.read_csv(path, delimiter=\"\\t\", header=None, names=[\"Index\", \"Word\", \"DependencyIndex\"])\n",
        "  dataset = dataset.dropna()\n",
        "  dataset[\"Index\"] = dataset[\"Index\"].astype(int)\n",
        "  dataset[\"DependencyIndex\"] = dataset[\"DependencyIndex\"].astype(int)\n",
        "  dataset[\"Dependency\"] = dataset.apply(dependency_create, axis=1)\n",
        "\n",
        "  return dataset"
      ],
      "metadata": {
        "id": "V3CkceiVuUm3"
      },
      "execution_count": 4,
      "outputs": []
    },
    {
      "cell_type": "code",
      "source": [
        "train_dataset = load_and_preprocess_dataset(\"/content/train.conll\")\n",
        "valid_dataset = load_and_preprocess_dataset(\"/content/dev.conll\")\n",
        "test_dataset = load_and_preprocess_dataset(\"/content/test.conll\")"
      ],
      "metadata": {
        "id": "QiMnRVuuszxO"
      },
      "execution_count": 5,
      "outputs": []
    },
    {
      "cell_type": "code",
      "source": [
        "label_dictionary = {\"PAD\": 0}\n",
        "\n",
        "for i, label in enumerate(set(train_dataset[\"Dependency\"].values.tolist() +\n",
        "                              valid_dataset[\"Dependency\"].values.tolist() +\n",
        "                              test_dataset[\"Dependency\"].values.tolist())):\n",
        "  label_dictionary[label] = i+1"
      ],
      "metadata": {
        "id": "nHeb23kj5mzS"
      },
      "execution_count": 6,
      "outputs": []
    },
    {
      "cell_type": "code",
      "source": [
        "number_labels = len(label_dictionary)"
      ],
      "metadata": {
        "id": "S7VgSz3KqMvg"
      },
      "execution_count": 7,
      "outputs": []
    },
    {
      "cell_type": "code",
      "source": [
        "max_number_sequence = max(max(train_dataset[\"Index\"].values), max(valid_dataset[\"Index\"].values), max(test_dataset[\"Index\"].values))"
      ],
      "metadata": {
        "id": "FoePuY3FQX31"
      },
      "execution_count": 8,
      "outputs": []
    },
    {
      "cell_type": "markdown",
      "source": [
        "# Embedding"
      ],
      "metadata": {
        "id": "GbT_BSCkslbl"
      }
    },
    {
      "cell_type": "code",
      "source": [
        "print(gensim_api.load(\"word2vec-google-news-300\", return_path=True))\n",
        "print(gensim_api.load(\"glove-wiki-gigaword-300\", return_path=True))"
      ],
      "metadata": {
        "id": "YUxKJP4Ir78e",
        "colab": {
          "base_uri": "https://localhost:8080/"
        },
        "outputId": "b2ee749d-0de2-4df8-ed1d-f6f4c5af8c59"
      },
      "execution_count": 9,
      "outputs": [
        {
          "output_type": "stream",
          "name": "stdout",
          "text": [
            "/root/gensim-data/word2vec-google-news-300/word2vec-google-news-300.gz\n",
            "/root/gensim-data/glove-wiki-gigaword-300/glove-wiki-gigaword-300.gz\n"
          ]
        }
      ]
    },
    {
      "cell_type": "code",
      "source": [
        "word2vec_model = gensim_api.load(\"word2vec-google-news-300\")\n",
        "glove_model = gensim_api.load(\"glove-wiki-gigaword-300\")"
      ],
      "metadata": {
        "id": "P2IuiFpbsYOE"
      },
      "execution_count": 10,
      "outputs": []
    },
    {
      "cell_type": "markdown",
      "source": [
        "# Sequence Dataset"
      ],
      "metadata": {
        "id": "GRnNBK0uhdHA"
      }
    },
    {
      "cell_type": "code",
      "source": [
        "def convert_to_sequence(dataset):\n",
        "  sequenced_dataset = []\n",
        "\n",
        "  for i, item in dataset.iterrows():\n",
        "    if item[\"Index\"] == 1:\n",
        "      if i>0:\n",
        "        sequenced_dataset.append({\"Words\": new_words, \"Labels\": new_labels})\n",
        "      new_words = [item[\"Word\"]]\n",
        "      new_labels = [item[\"Dependency\"]]\n",
        "    else:\n",
        "      new_words.append(item[\"Word\"])\n",
        "      new_labels.append(item[\"Dependency\"])\n",
        "  \n",
        "  sequenced_dataset.append({\"Words\": new_words, \"Labels\": new_labels})\n",
        "  return pd.DataFrame(sequenced_dataset)"
      ],
      "metadata": {
        "id": "HOJ3BPYVQ-Kx"
      },
      "execution_count": 11,
      "outputs": []
    },
    {
      "cell_type": "code",
      "source": [
        "train_dataset = convert_to_sequence(train_dataset)\n",
        "valid_dataset = convert_to_sequence(valid_dataset)\n",
        "test_dataset = convert_to_sequence(test_dataset)"
      ],
      "metadata": {
        "id": "6FGsGs15S7OM"
      },
      "execution_count": 12,
      "outputs": []
    },
    {
      "cell_type": "code",
      "source": [
        "def create_apply_embedding(embedding_model):\n",
        "  def apply_embedding(row):\n",
        "    vectors = []\n",
        "    for word in row[\"Words\"]:\n",
        "      try:\n",
        "        vector = embedding_model.get_vector(word)\n",
        "      except KeyError:\n",
        "        vector = np.zeros(300)\n",
        "      vectors.append(vector)\n",
        "\n",
        "    for i in range(141-len(row[\"Words\"])):\n",
        "      vectors.append(np.zeros(300))\n",
        "\n",
        "    return np.stack(vectors)\n",
        "\n",
        "  return apply_embedding"
      ],
      "metadata": {
        "id": "jdN6kgdj2dms"
      },
      "execution_count": 13,
      "outputs": []
    },
    {
      "cell_type": "code",
      "source": [
        "def apply_label_index(row):\n",
        "  labels = []\n",
        "  for label in row[\"Labels\"]:\n",
        "    labels.append(label_dictionary[label])\n",
        "\n",
        "  for i in range(max_number_sequence-len(row[\"Labels\"])):\n",
        "    labels.append(label_dictionary[\"PAD\"])\n",
        "  \n",
        "  return np.stack(labels)"
      ],
      "metadata": {
        "id": "oLgSh1_Y6p5J"
      },
      "execution_count": 14,
      "outputs": []
    },
    {
      "cell_type": "code",
      "source": [
        "class DatasetGenerator(keras.utils.Sequence):\n",
        "  def __init__(self, dataset, batch_size, embedding_model):\n",
        "    self.dataset = dataset\n",
        "    self.batch_size = batch_size\n",
        "    self.apply_embedding = create_apply_embedding(embedding_model)\n",
        "\n",
        "  def __len__(self):\n",
        "    return math.ceil(len(self.dataset)/self.batch_size)\n",
        "  \n",
        "  def __getitem__(self, idx):\n",
        "    batch_vectors = np.stack(self.dataset.iloc[idx * self.batch_size : (idx+1) * self.batch_size].apply(self.apply_embedding, axis=1).values)\n",
        "    batch_labelindex = np.stack(self.dataset.iloc[idx * self.batch_size : (idx+1) * self.batch_size].apply(apply_label_index, axis=1).values)\n",
        "\n",
        "    return batch_vectors, batch_labelindex"
      ],
      "metadata": {
        "id": "5XhmR9M87yzf"
      },
      "execution_count": 15,
      "outputs": []
    },
    {
      "cell_type": "markdown",
      "source": [
        "# BiRNN Model"
      ],
      "metadata": {
        "id": "JoWZ32S5ojMA"
      }
    },
    {
      "cell_type": "code",
      "source": [
        "class BiRNN(keras.Model):\n",
        "  def __init__(self, number_cells, rnn_cell=LSTM, number_rnn_layers=1, number_hidden_fc_layers=0, dropout_rate=0):\n",
        "    super().__init__()\n",
        "\n",
        "    self.model = Sequential([])\n",
        "    self.model.add(Input((max_number_sequence, 300)))\n",
        "\n",
        "    for _ in range(number_rnn_layers):\n",
        "      self.model.add(Bidirectional(rnn_cell(number_cells, return_sequences=True)))\n",
        "\n",
        "    for _ in range(number_hidden_fc_layers):\n",
        "      self.model.add(Dense(number_cells))\n",
        "\n",
        "    self.model.add(Dropout(dropout_rate))\n",
        "    self.model.add(TimeDistributed(Dense(number_labels, activation=\"softmax\")))\n",
        "  \n",
        "  def call(self, inputs):\n",
        "    return self.model(inputs)"
      ],
      "metadata": {
        "id": "nTHIJe_mgumH"
      },
      "execution_count": 16,
      "outputs": []
    },
    {
      "cell_type": "code",
      "source": [
        "def ignore_class_accuracy(to_ignore=0):\n",
        "   # Refrence: https://nlpforhackers.io/lstm-pos-tagger-keras/\n",
        "  \n",
        "  def ignore_accuracy(y_true, y_pred):\n",
        "    y_pred_class = K.argmax(y_pred, axis=-1)\n",
        "    y_true_class = K.argmax(y_true, axis=-1)\n",
        "    y_true_class = K.cast(y_true, \"int64\")\n",
        "\n",
        "    ignore_mask = K.cast(K.not_equal(y_pred_class, to_ignore), 'int32')\n",
        "    matches = K.cast(K.equal(y_true_class, y_pred_class), 'int32') * ignore_mask\n",
        "    accuracy = K.sum(matches) / K.maximum(K.sum(ignore_mask), 1)\n",
        "    return accuracy\n",
        "  \n",
        "  return ignore_accuracy"
      ],
      "metadata": {
        "id": "sA7CLu_kDfdp"
      },
      "execution_count": 17,
      "outputs": []
    },
    {
      "cell_type": "markdown",
      "source": [
        "# Model Selection"
      ],
      "metadata": {
        "id": "nxKp0uEj71dc"
      }
    },
    {
      "cell_type": "code",
      "source": [
        "for embedding_name, embedding_model in [(\"word2vec\", word2vec_model),\n",
        "                                        (\"glove\",glove_model)]:\n",
        "  \n",
        "  train_dataset_generator = DatasetGenerator(dataset=train_dataset, batch_size=32, embedding_model=word2vec_model)\n",
        "  valid_dataset_generator = DatasetGenerator(dataset=valid_dataset, batch_size=32, embedding_model=word2vec_model)\n",
        "  test_dataset_generator = DatasetGenerator(dataset=test_dataset, batch_size=32, embedding_model=word2vec_model)\n",
        "\n",
        "  for rnn_cell in [LSTM, GRU]:\n",
        "    for number_rnn_layers, number_hidden_fc_layers, dropout_rate in [(1, 0, 0), (2, 2, 0.5)]:\n",
        "        print(f\"Embedding = {embedding_name} | Cell = {rnn_cell} | #RNN Layers = {number_rnn_layers} | #Hidden FC Layers = {number_hidden_fc_layers} | Dropout Rate = {dropout_rate}\")\n",
        "\n",
        "        model = BiRNN(number_cells=32, rnn_cell=rnn_cell,\n",
        "                      number_rnn_layers=number_rnn_layers,\n",
        "                      number_hidden_fc_layers=number_hidden_fc_layers,\n",
        "                      dropout_rate=0)\n",
        "        \n",
        "        model.compile(optimizer=Adam(0.01),\n",
        "                      loss=\"sparse_categorical_crossentropy\",\n",
        "                      metrics=[\"Accuracy\", ignore_class_accuracy(0)])\n",
        "        \n",
        "        es_callback = EarlyStopping(monitor=\"val_loss\", patience=4, restore_best_weights=True)\n",
        "\n",
        "        history = model.fit(x=train_dataset_generator,\n",
        "                epochs=20, callbacks=[es_callback],\n",
        "                validation_data=valid_dataset_generator, verbose=0)\n",
        "        \n",
        "        print(f\"Train Real Accuracy = {round(model.evaluate(train_dataset_generator, verbose=0)[2]*100, 2)}\", end=\" | \")\n",
        "        print(f\"Valid Real Accuracy = {round(model.evaluate(valid_dataset_generator, verbose=0)[2]*100, 2)}\", end=\" | \")\n",
        "        print(f\"Test Real Accuracy = {round(model.evaluate(test_dataset_generator, verbose=0)[2]*100, 2)}\")\n",
        "        "
      ],
      "metadata": {
        "colab": {
          "base_uri": "https://localhost:8080/"
        },
        "id": "bfIENb9p5Mzj",
        "outputId": "8a0258a7-369e-4281-ccea-85d9bef48c3e"
      },
      "execution_count": 21,
      "outputs": [
        {
          "output_type": "stream",
          "name": "stdout",
          "text": [
            "Embedding = word2vec | Cell = <class 'keras.layers.recurrent_v2.LSTM'> | #RNN Layers = 1 | #Hidden FC Layers = 0 | Dropout Rate = 0\n",
            "Train Real Accuracy = 80.62 | Valid Real Accuracy = 76.58 | Test Real Accuracy = 77.16\n",
            "Embedding = word2vec | Cell = <class 'keras.layers.recurrent_v2.LSTM'> | #RNN Layers = 2 | #Hidden FC Layers = 2 | Dropout Rate = 0.5\n",
            "Train Real Accuracy = 86.6 | Valid Real Accuracy = 82.05 | Test Real Accuracy = 82.67\n",
            "Embedding = word2vec | Cell = <class 'keras.layers.recurrent_v2.GRU'> | #RNN Layers = 1 | #Hidden FC Layers = 0 | Dropout Rate = 0\n",
            "Train Real Accuracy = 76.84 | Valid Real Accuracy = 74.74 | Test Real Accuracy = 75.05\n",
            "Embedding = word2vec | Cell = <class 'keras.layers.recurrent_v2.GRU'> | #RNN Layers = 2 | #Hidden FC Layers = 2 | Dropout Rate = 0.5\n",
            "Train Real Accuracy = 78.26 | Valid Real Accuracy = 76.41 | Test Real Accuracy = 76.6\n",
            "Embedding = glove | Cell = <class 'keras.layers.recurrent_v2.LSTM'> | #RNN Layers = 1 | #Hidden FC Layers = 0 | Dropout Rate = 0\n",
            "Train Real Accuracy = 78.29 | Valid Real Accuracy = 75.29 | Test Real Accuracy = 75.68\n",
            "Embedding = glove | Cell = <class 'keras.layers.recurrent_v2.LSTM'> | #RNN Layers = 2 | #Hidden FC Layers = 2 | Dropout Rate = 0.5\n",
            "Train Real Accuracy = 85.99 | Valid Real Accuracy = 81.97 | Test Real Accuracy = 82.34\n",
            "Embedding = glove | Cell = <class 'keras.layers.recurrent_v2.GRU'> | #RNN Layers = 1 | #Hidden FC Layers = 0 | Dropout Rate = 0\n",
            "Train Real Accuracy = 77.3 | Valid Real Accuracy = 75.36 | Test Real Accuracy = 75.45\n",
            "Embedding = glove | Cell = <class 'keras.layers.recurrent_v2.GRU'> | #RNN Layers = 2 | #Hidden FC Layers = 2 | Dropout Rate = 0.5\n",
            "Train Real Accuracy = 79.75 | Valid Real Accuracy = 77.48 | Test Real Accuracy = 78.01\n"
          ]
        }
      ]
    },
    {
      "cell_type": "markdown",
      "source": [
        "# Evaluation"
      ],
      "metadata": {
        "id": "yj1_Kz3JWYRV"
      }
    },
    {
      "cell_type": "code",
      "source": [
        "model.evaluate(train_dataset_generator)\n",
        "model.evaluate(valid_dataset_generator)\n",
        "model.evaluate(test_dataset_generator)"
      ],
      "metadata": {
        "colab": {
          "base_uri": "https://localhost:8080/"
        },
        "id": "wJ15Y_38Lfo0",
        "outputId": "faf39c6d-2b5c-4428-ae41-8723d48273a3"
      },
      "execution_count": 28,
      "outputs": [
        {
          "output_type": "stream",
          "name": "stdout",
          "text": [
            "1245/1245 [==============================] - 46s 37ms/step - loss: 0.1274 - Accuracy: 0.9634 - ignore_accuracy: 0.7877\n",
            "54/54 [==============================] - 2s 31ms/step - loss: 0.1472 - Accuracy: 0.9592 - ignore_accuracy: 0.7599\n",
            "76/76 [==============================] - 2s 32ms/step - loss: 0.1433 - Accuracy: 0.9597 - ignore_accuracy: 0.7629\n"
          ]
        },
        {
          "output_type": "execute_result",
          "data": {
            "text/plain": [
              "[0.14327597618103027, 0.9597071409225464, 0.762917697429657]"
            ]
          },
          "metadata": {},
          "execution_count": 28
        }
      ]
    },
    {
      "cell_type": "code",
      "source": [
        "test_predict = model.predict(test_dataset_generator)\n",
        "test_predict = K.argmax(test_predict).numpy()\n",
        "test_predict = test_predict.ravel()"
      ],
      "metadata": {
        "id": "4_Vy1e1ci9Hn"
      },
      "execution_count": 82,
      "outputs": []
    },
    {
      "cell_type": "code",
      "source": [
        "test_true = []\n",
        "for i in range(len(test_dataset_generator)):\n",
        "  for row in test_dataset_generator.__getitem__(i)[1]:\n",
        "    test_true.append(row)\n",
        "test_true = np.stack(test_true).squeeze()\n",
        "test_true = test_true.ravel()"
      ],
      "metadata": {
        "id": "OOH-dhuvmaiH"
      },
      "execution_count": 85,
      "outputs": []
    },
    {
      "cell_type": "code",
      "source": [
        "precision_score(test_true, test_predict)"
      ],
      "metadata": {
        "colab": {
          "base_uri": "https://localhost:8080/",
          "height": 317
        },
        "id": "RZ7pFRfyztL_",
        "outputId": "29d8d779-7dac-4c7d-d3b3-ce78b3fe8edd"
      },
      "execution_count": 101,
      "outputs": [
        {
          "output_type": "error",
          "ename": "ValueError",
          "evalue": "ignored",
          "traceback": [
            "\u001b[0;31m---------------------------------------------------------------------------\u001b[0m",
            "\u001b[0;31mValueError\u001b[0m                                Traceback (most recent call last)",
            "\u001b[0;32m<ipython-input-101-ac35afabc1e8>\u001b[0m in \u001b[0;36m<module>\u001b[0;34m()\u001b[0m\n\u001b[0;32m----> 1\u001b[0;31m \u001b[0mprecision_score\u001b[0m\u001b[0;34m(\u001b[0m\u001b[0mtest_true\u001b[0m\u001b[0;34m,\u001b[0m \u001b[0mtest_predict\u001b[0m\u001b[0;34m)\u001b[0m\u001b[0;34m\u001b[0m\u001b[0;34m\u001b[0m\u001b[0m\n\u001b[0m",
            "\u001b[0;32m/usr/local/lib/python3.7/dist-packages/sklearn/metrics/_classification.py\u001b[0m in \u001b[0;36mprecision_score\u001b[0;34m(y_true, y_pred, labels, pos_label, average, sample_weight, zero_division)\u001b[0m\n\u001b[1;32m   1763\u001b[0m         \u001b[0mwarn_for\u001b[0m\u001b[0;34m=\u001b[0m\u001b[0;34m(\u001b[0m\u001b[0;34m\"precision\"\u001b[0m\u001b[0;34m,\u001b[0m\u001b[0;34m)\u001b[0m\u001b[0;34m,\u001b[0m\u001b[0;34m\u001b[0m\u001b[0;34m\u001b[0m\u001b[0m\n\u001b[1;32m   1764\u001b[0m         \u001b[0msample_weight\u001b[0m\u001b[0;34m=\u001b[0m\u001b[0msample_weight\u001b[0m\u001b[0;34m,\u001b[0m\u001b[0;34m\u001b[0m\u001b[0;34m\u001b[0m\u001b[0m\n\u001b[0;32m-> 1765\u001b[0;31m         \u001b[0mzero_division\u001b[0m\u001b[0;34m=\u001b[0m\u001b[0mzero_division\u001b[0m\u001b[0;34m,\u001b[0m\u001b[0;34m\u001b[0m\u001b[0;34m\u001b[0m\u001b[0m\n\u001b[0m\u001b[1;32m   1766\u001b[0m     )\n\u001b[1;32m   1767\u001b[0m     \u001b[0;32mreturn\u001b[0m \u001b[0mp\u001b[0m\u001b[0;34m\u001b[0m\u001b[0;34m\u001b[0m\u001b[0m\n",
            "\u001b[0;32m/usr/local/lib/python3.7/dist-packages/sklearn/metrics/_classification.py\u001b[0m in \u001b[0;36mprecision_recall_fscore_support\u001b[0;34m(y_true, y_pred, beta, labels, pos_label, average, warn_for, sample_weight, zero_division)\u001b[0m\n\u001b[1;32m   1542\u001b[0m     \u001b[0;32mif\u001b[0m \u001b[0mbeta\u001b[0m \u001b[0;34m<\u001b[0m \u001b[0;36m0\u001b[0m\u001b[0;34m:\u001b[0m\u001b[0;34m\u001b[0m\u001b[0;34m\u001b[0m\u001b[0m\n\u001b[1;32m   1543\u001b[0m         \u001b[0;32mraise\u001b[0m \u001b[0mValueError\u001b[0m\u001b[0;34m(\u001b[0m\u001b[0;34m\"beta should be >=0 in the F-beta score\"\u001b[0m\u001b[0;34m)\u001b[0m\u001b[0;34m\u001b[0m\u001b[0;34m\u001b[0m\u001b[0m\n\u001b[0;32m-> 1544\u001b[0;31m     \u001b[0mlabels\u001b[0m \u001b[0;34m=\u001b[0m \u001b[0m_check_set_wise_labels\u001b[0m\u001b[0;34m(\u001b[0m\u001b[0my_true\u001b[0m\u001b[0;34m,\u001b[0m \u001b[0my_pred\u001b[0m\u001b[0;34m,\u001b[0m \u001b[0maverage\u001b[0m\u001b[0;34m,\u001b[0m \u001b[0mlabels\u001b[0m\u001b[0;34m,\u001b[0m \u001b[0mpos_label\u001b[0m\u001b[0;34m)\u001b[0m\u001b[0;34m\u001b[0m\u001b[0;34m\u001b[0m\u001b[0m\n\u001b[0m\u001b[1;32m   1545\u001b[0m \u001b[0;34m\u001b[0m\u001b[0m\n\u001b[1;32m   1546\u001b[0m     \u001b[0;31m# Calculate tp_sum, pred_sum, true_sum ###\u001b[0m\u001b[0;34m\u001b[0m\u001b[0;34m\u001b[0m\u001b[0;34m\u001b[0m\u001b[0m\n",
            "\u001b[0;32m/usr/local/lib/python3.7/dist-packages/sklearn/metrics/_classification.py\u001b[0m in \u001b[0;36m_check_set_wise_labels\u001b[0;34m(y_true, y_pred, average, labels, pos_label)\u001b[0m\n\u001b[1;32m   1365\u001b[0m             raise ValueError(\n\u001b[1;32m   1366\u001b[0m                 \u001b[0;34m\"Target is %s but average='binary'. Please \"\u001b[0m\u001b[0;34m\u001b[0m\u001b[0;34m\u001b[0m\u001b[0m\n\u001b[0;32m-> 1367\u001b[0;31m                 \u001b[0;34m\"choose another average setting, one of %r.\"\u001b[0m \u001b[0;34m%\u001b[0m \u001b[0;34m(\u001b[0m\u001b[0my_type\u001b[0m\u001b[0;34m,\u001b[0m \u001b[0maverage_options\u001b[0m\u001b[0;34m)\u001b[0m\u001b[0;34m\u001b[0m\u001b[0;34m\u001b[0m\u001b[0m\n\u001b[0m\u001b[1;32m   1368\u001b[0m             )\n\u001b[1;32m   1369\u001b[0m     \u001b[0;32melif\u001b[0m \u001b[0mpos_label\u001b[0m \u001b[0;32mnot\u001b[0m \u001b[0;32min\u001b[0m \u001b[0;34m(\u001b[0m\u001b[0;32mNone\u001b[0m\u001b[0;34m,\u001b[0m \u001b[0;36m1\u001b[0m\u001b[0;34m)\u001b[0m\u001b[0;34m:\u001b[0m\u001b[0;34m\u001b[0m\u001b[0;34m\u001b[0m\u001b[0m\n",
            "\u001b[0;31mValueError\u001b[0m: Target is multiclass but average='binary'. Please choose another average setting, one of [None, 'micro', 'macro', 'weighted']."
          ]
        }
      ]
    },
    {
      "cell_type": "code",
      "source": [
        ""
      ],
      "metadata": {
        "colab": {
          "base_uri": "https://localhost:8080/"
        },
        "id": "pIAVYE8KzgRv",
        "outputId": "1c3887ab-1673-4cdd-fc13-8c1df4bceedd"
      },
      "execution_count": 100,
      "outputs": [
        {
          "output_type": "execute_result",
          "data": {
            "text/plain": [
              "0.758732622962388"
            ]
          },
          "metadata": {},
          "execution_count": 100
        }
      ]
    },
    {
      "cell_type": "code",
      "source": [
        "matrix = confusion_matrix(test_true, test_predict)"
      ],
      "metadata": {
        "id": "DoCUrLoZu8ZW"
      },
      "execution_count": 87,
      "outputs": []
    },
    {
      "cell_type": "code",
      "source": [
        "accuracy = accuracy_score(test_true, test_predict, sample_weight=np.array([(0 if item else 1) for item in test_true==0]))\n",
        "\n",
        "number_data = []\n",
        "for i in range(len(matrix)):\n",
        "  number_data.append(matrix[i])\n",
        "\n",
        "precisions = []\n",
        "recalls = []\n",
        "for i in range(len(matrix)):\n",
        "  precisions.append(matrix[i,i]/sum(matrix[:,i]))\n",
        "  recalls.append(matrix[i,i]/sum(matrix[i]))\n",
        "\n",
        "print(precisions)\n",
        "\n",
        "precision = np.average(precisions[1:])\n",
        "recall = np.average(recalls[1:])\n",
        "\n",
        "print(accuracy, precision, recall)"
      ],
      "metadata": {
        "colab": {
          "base_uri": "https://localhost:8080/"
        },
        "id": "WAjk6ETr14Jm",
        "outputId": "f689b1f8-9c2e-44bb-9efa-2035b8dea60e"
      },
      "execution_count": 108,
      "outputs": [
        {
          "output_type": "stream",
          "name": "stdout",
          "text": [
            "[0.998958545904904, 0.9145704793545325, nan, nan, 0.5384615384615384, nan, nan, 0.125, nan, 0.16666666666666666, nan, 0.0, nan, nan, 0.7133160956690369, nan, nan, 0.0, nan, nan, 0.07692307692307693, 0.3333333333333333, 0.5777126099706745, 0.0, nan, nan, 0.7025977178926924, 0.38686131386861317, nan, 0.23383084577114427, 0.0, 0.25, nan, nan, 0.7031082529474812, 0.5314009661835749, nan, 0.48475120385232745, 0.14545454545454545, 0.3333333333333333, 0.09615384615384616, 0.0, nan, 0.020833333333333332, 0.35, 0.8391284191006027, nan, 0.5533769063180828, 0.0, nan, nan, nan, 0.0, nan, 0.0, nan, 0.42071197411003236, nan, 0.05783132530120482, 0.1, nan, 0.0, nan, 0.2, 0.22033898305084745, 0.0, nan, nan, 0.0, nan, nan, nan, nan, 0.7766803179956637, 0.3814102564102564, 0.43636363636363634, 0.0, nan, 0.6414613423959218, 0.6074074074074074, 0.11570247933884298, nan, 0.12781954887218044, nan, nan, 0.0, 0.7694645779752163, 0.5743944636678201, nan, nan, 0.44086021505376344, 0.06666666666666667, nan, nan, 0.5481927710843374, nan, nan, 0.2315270935960591, nan, 0.24074074074074073, nan, 0.786378861183476, 0.31666666666666665, nan]\n",
            "0.758732622962388 nan nan\n"
          ]
        },
        {
          "output_type": "stream",
          "name": "stderr",
          "text": [
            "/usr/local/lib/python3.7/dist-packages/ipykernel_launcher.py:10: RuntimeWarning: invalid value encountered in long_scalars\n",
            "  # Remove the CWD from sys.path while we load stuff.\n",
            "/usr/local/lib/python3.7/dist-packages/ipykernel_launcher.py:11: RuntimeWarning: invalid value encountered in long_scalars\n",
            "  # This is added back by InteractiveShellApp.init_path()\n"
          ]
        }
      ]
    },
    {
      "cell_type": "code",
      "source": [
        "i=1\n"
      ],
      "metadata": {
        "colab": {
          "base_uri": "https://localhost:8080/"
        },
        "id": "L3EMI15c1k-3",
        "outputId": "8feaf806-b510-4e8c-b8be-f07cb75b3ca5"
      },
      "execution_count": 104,
      "outputs": [
        {
          "output_type": "stream",
          "name": "stdout",
          "text": [
            "0.9366873253129178\n"
          ]
        }
      ]
    },
    {
      "cell_type": "code",
      "source": [
        "number_labels"
      ],
      "metadata": {
        "colab": {
          "base_uri": "https://localhost:8080/"
        },
        "id": "I3GNqB9xzJ4P",
        "outputId": "f1d2e6e2-f710-48b2-abb0-6f59b1c24b8c"
      },
      "execution_count": 90,
      "outputs": [
        {
          "output_type": "execute_result",
          "data": {
            "text/plain": [
              "159"
            ]
          },
          "metadata": {},
          "execution_count": 90
        }
      ]
    },
    {
      "cell_type": "code",
      "source": [
        "number_true = 0\n",
        "number_all = 0\n",
        "for i in range(number_labels):\n",
        "  number_true += matrix[i,i]\n",
        "number_all = np.sum(matrix) - matrix[0,0]"
      ],
      "metadata": {
        "colab": {
          "base_uri": "https://localhost:8080/",
          "height": 222
        },
        "id": "BfmcZMroytBt",
        "outputId": "5268354a-5ab4-4576-8013-e0f7a2882dd4"
      },
      "execution_count": 89,
      "outputs": [
        {
          "output_type": "error",
          "ename": "IndexError",
          "evalue": "ignored",
          "traceback": [
            "\u001b[0;31m---------------------------------------------------------------------------\u001b[0m",
            "\u001b[0;31mIndexError\u001b[0m                                Traceback (most recent call last)",
            "\u001b[0;32m<ipython-input-89-42dfafd64fb3>\u001b[0m in \u001b[0;36m<module>\u001b[0;34m()\u001b[0m\n\u001b[1;32m      2\u001b[0m \u001b[0mnumber_all\u001b[0m \u001b[0;34m=\u001b[0m \u001b[0;36m0\u001b[0m\u001b[0;34m\u001b[0m\u001b[0;34m\u001b[0m\u001b[0m\n\u001b[1;32m      3\u001b[0m \u001b[0;32mfor\u001b[0m \u001b[0mi\u001b[0m \u001b[0;32min\u001b[0m \u001b[0mrange\u001b[0m\u001b[0;34m(\u001b[0m\u001b[0mnumber_labels\u001b[0m\u001b[0;34m)\u001b[0m\u001b[0;34m:\u001b[0m\u001b[0;34m\u001b[0m\u001b[0;34m\u001b[0m\u001b[0m\n\u001b[0;32m----> 4\u001b[0;31m   \u001b[0mnumber_true\u001b[0m \u001b[0;34m+=\u001b[0m \u001b[0mmatrix\u001b[0m\u001b[0;34m[\u001b[0m\u001b[0mi\u001b[0m\u001b[0;34m,\u001b[0m\u001b[0mi\u001b[0m\u001b[0;34m]\u001b[0m\u001b[0;34m\u001b[0m\u001b[0;34m\u001b[0m\u001b[0m\n\u001b[0m\u001b[1;32m      5\u001b[0m \u001b[0mnumber_all\u001b[0m \u001b[0;34m=\u001b[0m \u001b[0mnp\u001b[0m\u001b[0;34m.\u001b[0m\u001b[0msum\u001b[0m\u001b[0;34m(\u001b[0m\u001b[0mmatrix\u001b[0m\u001b[0;34m)\u001b[0m \u001b[0;34m-\u001b[0m \u001b[0mmatrix\u001b[0m\u001b[0;34m[\u001b[0m\u001b[0;36m0\u001b[0m\u001b[0;34m,\u001b[0m\u001b[0;36m0\u001b[0m\u001b[0;34m]\u001b[0m\u001b[0;34m\u001b[0m\u001b[0;34m\u001b[0m\u001b[0m\n",
            "\u001b[0;31mIndexError\u001b[0m: index 104 is out of bounds for axis 0 with size 104"
          ]
        }
      ]
    },
    {
      "cell_type": "code",
      "source": [
        "matrix[0]"
      ],
      "metadata": {
        "colab": {
          "base_uri": "https://localhost:8080/"
        },
        "id": "7WuqaIpJvh6Q",
        "outputId": "3128b157-ae10-495a-dd7a-87d5a86d5356"
      },
      "execution_count": 88,
      "outputs": [
        {
          "output_type": "execute_result",
          "data": {
            "text/plain": [
              "array([283922,      0,      0,      0,      0,      0,      0,      0,\n",
              "            0,      0,      0,      0,      0,      0,      7,      0,\n",
              "            0,      0,      0,      0,      0,      0,      0,      0,\n",
              "            0,      0,     11,      0,      0,      0,      0,      0,\n",
              "            0,      0,      0,      1,      0,      0,      0,      0,\n",
              "            0,      0,      0,      0,      1,      0,      0,      7,\n",
              "            0,      0,      0,      0,      0,      0,      0,      0,\n",
              "            1,      0,      0,      0,      0,      0,      0,      0,\n",
              "            0,      0,      0,      0,      0,      0,      0,      0,\n",
              "            0,      6,      1,      1,      0,      0,      6,      0,\n",
              "            0,      0,      0,      0,      0,      0,      0,      8,\n",
              "            0,      0,      0,      0,      0,      0,      0,      0,\n",
              "            0,      0,      0,      0,      0,      0,      0,      0])"
            ]
          },
          "metadata": {},
          "execution_count": 88
        }
      ]
    },
    {
      "cell_type": "code",
      "source": [
        "train_loss = history.history[\"loss\"]\n",
        "valid_loss = history.history[\"val_loss\"]\n",
        "\n",
        "plt.scatter(range(1, len(train_loss)+1), train_loss, color=\"red\")\n",
        "plt.scatter(range(1, len(train_loss)+1), valid_loss, color=\"green\")\n",
        "\n",
        "plt.plot(range(1, len(train_loss)+1), train_loss, color=\"red\", label=\"Train Loss\")\n",
        "plt.plot(range(1, len(train_loss)+1), valid_loss, color=\"green\", label=\"Validation Loss\")\n",
        "\n",
        "plt.legend()\n",
        "plt.title(\"Loss changes in training\")\n",
        "plt.xlabel(\"Epoch\")\n",
        "plt.ylabel(\"Loss\")\n",
        "plt.show()"
      ],
      "metadata": {
        "id": "Jflo1jNA2aJF",
        "colab": {
          "base_uri": "https://localhost:8080/",
          "height": 295
        },
        "outputId": "589ac9a3-cbff-4ee1-e3e3-b801b2f2c32d"
      },
      "execution_count": 30,
      "outputs": [
        {
          "output_type": "display_data",
          "data": {
            "text/plain": [
              "<Figure size 432x288 with 1 Axes>"
            ],
            "image/png": "[encoded data removed]"
          },
          "metadata": {
            "needs_background": "light"
          }
        }
      ]
    },
    {
      "cell_type": "markdown",
      "source": [
        ""
      ],
      "metadata": {
        "id": "WUj4zXzll56j"
      }
    },
    {
      "cell_type": "code",
      "source": [
        ""
      ],
      "metadata": {
        "id": "r2VDch3QXD9d"
      },
      "execution_count": null,
      "outputs": []
    }
  ]
}