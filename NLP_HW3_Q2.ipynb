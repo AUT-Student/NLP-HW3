{
  "nbformat": 4,
  "nbformat_minor": 0,
  "metadata": {
    "colab": {
      "name": "NLP-HW3-Q2.ipynb",
      "provenance": [],
      "authorship_tag": "ABX9TyP8hARVv9X/sROQqqVvrlf1",
      "include_colab_link": true
    },
    "kernelspec": {
      "name": "python3",
      "display_name": "Python 3"
    },
    "language_info": {
      "name": "python"
    }
  },
  "cells": [
    {
      "cell_type": "markdown",
      "metadata": {
        "id": "view-in-github",
        "colab_type": "text"
      },
      "source": [
        "<a href=\"https://colab.research.google.com/github/AUT-Student/NLP-HW3/blob/main/NLP_HW3_Q2.ipynb\" target=\"_parent\"><img src=\"https://colab.research.google.com/assets/colab-badge.svg\" alt=\"Open In Colab\"/></a>"
      ]
    },
    {
      "cell_type": "markdown",
      "source": [
        "# Libraries"
      ],
      "metadata": {
        "id": "PDHYaymPspGE"
      }
    },
    {
      "cell_type": "code",
      "source": [
        "import numpy as np\n",
        "import pandas as pd\n",
        "\n",
        "import tensorflow as tf\n",
        "import tensorflow.keras as keras"
      ],
      "metadata": {
        "id": "4MrF0WJNsrSq"
      },
      "execution_count": 1,
      "outputs": []
    },
    {
      "cell_type": "markdown",
      "source": [
        "# Dataset"
      ],
      "metadata": {
        "id": "sw8b4NRMsmu-"
      }
    },
    {
      "cell_type": "code",
      "execution_count": 2,
      "metadata": {
        "colab": {
          "base_uri": "https://localhost:8080/"
        },
        "id": "qZY9QbGJsacm",
        "outputId": "9f4dd004-ceb6-48bf-dfd6-b4f8b0328bdc"
      },
      "outputs": [
        {
          "output_type": "stream",
          "name": "stdout",
          "text": [
            "Downloading...\n",
            "From: https://drive.google.com/uc?id=11WeeMttH6I6MJ0t1h7FVSEtw0lKwpRA6\n",
            "To: /content/dev.conll\n",
            "100% 478k/478k [00:00<00:00, 29.0MB/s]\n",
            "Downloading...\n",
            "From: https://drive.google.com/uc?id=1gLGNxjQzy6C8y4Oivr8etU1MMGfuKuEE\n",
            "To: /content/test.conll\n",
            "100% 677k/677k [00:00<00:00, 50.6MB/s]\n",
            "Downloading...\n",
            "From: https://drive.google.com/uc?id=127-sOeW6KMf6XNSAVM3bGjfwnmW0NciU\n",
            "To: /content/train.conll\n",
            "100% 11.4M/11.4M [00:00<00:00, 28.9MB/s]\n"
          ]
        }
      ],
      "source": [
        "!gdown 11WeeMttH6I6MJ0t1h7FVSEtw0lKwpRA6\n",
        "!gdown 1gLGNxjQzy6C8y4Oivr8etU1MMGfuKuEE\n",
        "!gdown 127-sOeW6KMf6XNSAVM3bGjfwnmW0NciU"
      ]
    },
    {
      "cell_type": "code",
      "source": [
        "def dependency_create(row):\n",
        "  dependency_index = row[\"DependencyIndex\"]\n",
        "  index = row[\"Index\"]\n",
        "\n",
        "  if dependency_index == 0:\n",
        "    return \"Root\"\n",
        "  else:\n",
        "    different = dependency_index - index\n",
        "\n",
        "    if different > 0:\n",
        "      return f\"{different}R\"\n",
        "    elif different < 0:\n",
        "      return f\"{abs(different)}L\"\n",
        "    else:\n",
        "      raise Exception(row)"
      ],
      "metadata": {
        "id": "qssCLRjyiz7v"
      },
      "execution_count": 46,
      "outputs": []
    },
    {
      "cell_type": "code",
      "source": [
        "def load_and_preprocess_dataset(path):\n",
        "  dataset = pd.read_csv(\"/content/dev.conll\", delimiter=\"\\t\", header=None, names=[\"Index\", \"Word\", \"DependencyIndex\"])\n",
        "  dataset = dataset.dropna()\n",
        "  dataset[\"Index\"] = dataset[\"Index\"].astype(int)\n",
        "  dataset[\"DependencyIndex\"] = dataset[\"DependencyIndex\"].astype(int)\n",
        "  dataset[\"Dependency\"] = dataset.apply(dependency_create, axis=1)\n",
        "\n",
        "  return dataset"
      ],
      "metadata": {
        "id": "V3CkceiVuUm3"
      },
      "execution_count": 50,
      "outputs": []
    },
    {
      "cell_type": "code",
      "source": [
        "train_dataset = load_and_preprocess_dataset(\"/content/train.conll\")\n",
        "valid_dataset = load_and_preprocess_dataset(\"/content/dev.conll\")\n",
        "test_dataset = load_and_preprocess_dataset(\"/content/test.conll\")"
      ],
      "metadata": {
        "id": "QiMnRVuuszxO"
      },
      "execution_count": 51,
      "outputs": []
    },
    {
      "cell_type": "code",
      "source": [
        ""
      ],
      "metadata": {
        "id": "nTHIJe_mgumH"
      },
      "execution_count": null,
      "outputs": []
    }
  ]
}