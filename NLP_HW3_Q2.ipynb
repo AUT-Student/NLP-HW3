{
  "nbformat": 4,
  "nbformat_minor": 0,
  "metadata": {
    "colab": {
      "name": "NLP-HW3-Q2.ipynb",
      "provenance": [],
      "collapsed_sections": [],
      "toc_visible": true,
      "authorship_tag": "ABX9TyPs9lgDLQEvF8z+FFT69nT1",
      "include_colab_link": true
    },
    "kernelspec": {
      "name": "python3",
      "display_name": "Python 3"
    },
    "language_info": {
      "name": "python"
    },
    "accelerator": "GPU"
  },
  "cells": [
    {
      "cell_type": "markdown",
      "metadata": {
        "id": "view-in-github",
        "colab_type": "text"
      },
      "source": [
        "<a href=\"https://colab.research.google.com/github/AUT-Student/NLP-HW3/blob/main/NLP_HW3_Q2.ipynb\" target=\"_parent\"><img src=\"https://colab.research.google.com/assets/colab-badge.svg\" alt=\"Open In Colab\"/></a>"
      ]
    },
    {
      "cell_type": "markdown",
      "source": [
        "# Libraries"
      ],
      "metadata": {
        "id": "PDHYaymPspGE"
      }
    },
    {
      "cell_type": "code",
      "source": [
        "import numpy as np\n",
        "import pandas as pd\n",
        "import matplotlib.pyplot as plt\n",
        "import math\n",
        "\n",
        "from gensim.models.word2vec import Word2Vec\n",
        "import gensim.downloader as gensim_api\n",
        "\n",
        "import tensorflow as tf\n",
        "import tensorflow.keras as keras\n",
        "from keras.layers import LSTM, Dense, Input, Embedding, Bidirectional, TimeDistributed\n",
        "from keras.callbacks import EarlyStopping\n",
        "from keras.models import Sequential\n",
        "from keras import backend as K\n",
        "from keras.optimizer_v2.adam import Adam"
      ],
      "metadata": {
        "id": "4MrF0WJNsrSq"
      },
      "execution_count": 1,
      "outputs": []
    },
    {
      "cell_type": "markdown",
      "source": [
        "# Dataset"
      ],
      "metadata": {
        "id": "sw8b4NRMsmu-"
      }
    },
    {
      "cell_type": "code",
      "execution_count": 2,
      "metadata": {
        "id": "qZY9QbGJsacm",
        "colab": {
          "base_uri": "https://localhost:8080/"
        },
        "outputId": "61e6034a-6de3-4bbd-c827-434fbcccd487"
      },
      "outputs": [
        {
          "output_type": "stream",
          "name": "stdout",
          "text": [
            "Downloading...\n",
            "From: https://drive.google.com/uc?id=11WeeMttH6I6MJ0t1h7FVSEtw0lKwpRA6\n",
            "To: /content/dev.conll\n",
            "100% 478k/478k [00:00<00:00, 52.8MB/s]\n",
            "Downloading...\n",
            "From: https://drive.google.com/uc?id=1gLGNxjQzy6C8y4Oivr8etU1MMGfuKuEE\n",
            "To: /content/test.conll\n",
            "100% 677k/677k [00:00<00:00, 54.8MB/s]\n",
            "Downloading...\n",
            "From: https://drive.google.com/uc?id=127-sOeW6KMf6XNSAVM3bGjfwnmW0NciU\n",
            "To: /content/train.conll\n",
            "100% 11.4M/11.4M [00:00<00:00, 61.4MB/s]\n"
          ]
        }
      ],
      "source": [
        "!gdown 11WeeMttH6I6MJ0t1h7FVSEtw0lKwpRA6\n",
        "!gdown 1gLGNxjQzy6C8y4Oivr8etU1MMGfuKuEE\n",
        "!gdown 127-sOeW6KMf6XNSAVM3bGjfwnmW0NciU"
      ]
    },
    {
      "cell_type": "code",
      "source": [
        "def dependency_create(row):\n",
        "  dependency_index = row[\"DependencyIndex\"]\n",
        "  index = row[\"Index\"]\n",
        "\n",
        "  if dependency_index == 0:\n",
        "    return \"Root\"\n",
        "  else:\n",
        "    different = dependency_index - index\n",
        "\n",
        "    if different > 0:\n",
        "      return f\"{different}R\"\n",
        "    elif different < 0:\n",
        "      return f\"{abs(different)}L\"\n",
        "    else:\n",
        "      raise Exception(row)"
      ],
      "metadata": {
        "id": "qssCLRjyiz7v"
      },
      "execution_count": 3,
      "outputs": []
    },
    {
      "cell_type": "code",
      "source": [
        "def load_and_preprocess_dataset(path):\n",
        "  dataset = pd.read_csv(path, delimiter=\"\\t\", header=None, names=[\"Index\", \"Word\", \"DependencyIndex\"])\n",
        "  dataset = dataset.dropna()\n",
        "  dataset[\"Index\"] = dataset[\"Index\"].astype(int)\n",
        "  dataset[\"DependencyIndex\"] = dataset[\"DependencyIndex\"].astype(int)\n",
        "  dataset[\"Dependency\"] = dataset.apply(dependency_create, axis=1)\n",
        "\n",
        "  return dataset"
      ],
      "metadata": {
        "id": "V3CkceiVuUm3"
      },
      "execution_count": 4,
      "outputs": []
    },
    {
      "cell_type": "code",
      "source": [
        "train_dataset = load_and_preprocess_dataset(\"/content/train.conll\")\n",
        "valid_dataset = load_and_preprocess_dataset(\"/content/dev.conll\")\n",
        "test_dataset = load_and_preprocess_dataset(\"/content/test.conll\")"
      ],
      "metadata": {
        "id": "QiMnRVuuszxO"
      },
      "execution_count": 5,
      "outputs": []
    },
    {
      "cell_type": "code",
      "source": [
        "label_dictionary = {\"PAD\": 0}\n",
        "\n",
        "for i, label in enumerate(set(train_dataset[\"Dependency\"].values.tolist() +\n",
        "                              valid_dataset[\"Dependency\"].values.tolist() +\n",
        "                              test_dataset[\"Dependency\"].values.tolist())):\n",
        "  label_dictionary[label] = i+1"
      ],
      "metadata": {
        "id": "nHeb23kj5mzS"
      },
      "execution_count": 6,
      "outputs": []
    },
    {
      "cell_type": "code",
      "source": [
        "number_labels = len(label_dictionary)"
      ],
      "metadata": {
        "id": "S7VgSz3KqMvg"
      },
      "execution_count": 7,
      "outputs": []
    },
    {
      "cell_type": "code",
      "source": [
        "max_number_sequence = max(max(train_dataset[\"Index\"].values), max(valid_dataset[\"Index\"].values), max(test_dataset[\"Index\"].values))"
      ],
      "metadata": {
        "id": "FoePuY3FQX31"
      },
      "execution_count": 8,
      "outputs": []
    },
    {
      "cell_type": "markdown",
      "source": [
        "# Embedding"
      ],
      "metadata": {
        "id": "GbT_BSCkslbl"
      }
    },
    {
      "cell_type": "code",
      "source": [
        "print(gensim_api.load(\"word2vec-google-news-300\", return_path=True))\n",
        "print(gensim_api.load(\"glove-wiki-gigaword-300\", return_path=True))"
      ],
      "metadata": {
        "id": "YUxKJP4Ir78e",
        "colab": {
          "base_uri": "https://localhost:8080/"
        },
        "outputId": "ca0c729b-49b2-4daf-f20a-32ae893a65d6"
      },
      "execution_count": 9,
      "outputs": [
        {
          "output_type": "stream",
          "name": "stdout",
          "text": [
            "/root/gensim-data/word2vec-google-news-300/word2vec-google-news-300.gz\n",
            "/root/gensim-data/glove-wiki-gigaword-300/glove-wiki-gigaword-300.gz\n"
          ]
        }
      ]
    },
    {
      "cell_type": "code",
      "source": [
        "word2vec_model = gensim_api.load(\"word2vec-google-news-300\")\n",
        "glove_model = gensim_api.load(\"glove-wiki-gigaword-300\")"
      ],
      "metadata": {
        "id": "P2IuiFpbsYOE"
      },
      "execution_count": 10,
      "outputs": []
    },
    {
      "cell_type": "markdown",
      "source": [
        "# Sequence Dataset"
      ],
      "metadata": {
        "id": "GRnNBK0uhdHA"
      }
    },
    {
      "cell_type": "code",
      "source": [
        "def convert_to_sequence(dataset):\n",
        "  sequenced_dataset = []\n",
        "\n",
        "  for i, item in dataset.iterrows():\n",
        "    if item[\"Index\"] == 1:\n",
        "      if i>0:\n",
        "        sequenced_dataset.append({\"Words\": new_words, \"Labels\": new_labels})\n",
        "      new_words = [item[\"Word\"]]\n",
        "      new_labels = [item[\"Dependency\"]]\n",
        "    else:\n",
        "      new_words.append(item[\"Word\"])\n",
        "      new_labels.append(item[\"Dependency\"])\n",
        "  \n",
        "  sequenced_dataset.append({\"Words\": new_words, \"Labels\": new_labels})\n",
        "  return pd.DataFrame(sequenced_dataset)"
      ],
      "metadata": {
        "id": "HOJ3BPYVQ-Kx"
      },
      "execution_count": 11,
      "outputs": []
    },
    {
      "cell_type": "code",
      "source": [
        "train_dataset = convert_to_sequence(train_dataset)\n",
        "valid_dataset = convert_to_sequence(valid_dataset)\n",
        "test_dataset = convert_to_sequence(test_dataset)"
      ],
      "metadata": {
        "id": "6FGsGs15S7OM"
      },
      "execution_count": 12,
      "outputs": []
    },
    {
      "cell_type": "code",
      "source": [
        "def create_apply_embedding(embedding_model):\n",
        "  def apply_embedding(row):\n",
        "    vectors = []\n",
        "    for word in row[\"Words\"]:\n",
        "      try:\n",
        "        vector = embedding_model.get_vector(word)\n",
        "      except KeyError:\n",
        "        vector = np.zeros(300)\n",
        "      vectors.append(vector)\n",
        "\n",
        "    for i in range(141-len(row[\"Words\"])):\n",
        "      vectors.append(np.zeros(300))\n",
        "\n",
        "    return np.stack(vectors)\n",
        "\n",
        "  return apply_embedding"
      ],
      "metadata": {
        "id": "jdN6kgdj2dms"
      },
      "execution_count": 13,
      "outputs": []
    },
    {
      "cell_type": "code",
      "source": [
        "def apply_label_index(row):\n",
        "  labels = []\n",
        "  for label in row[\"Labels\"]:\n",
        "    labels.append(label_dictionary[label])\n",
        "\n",
        "  for i in range(max_number_sequence-len(row[\"Labels\"])):\n",
        "    labels.append(label_dictionary[\"PAD\"])\n",
        "  \n",
        "  return np.stack(labels)"
      ],
      "metadata": {
        "id": "oLgSh1_Y6p5J"
      },
      "execution_count": 14,
      "outputs": []
    },
    {
      "cell_type": "code",
      "source": [
        "class DatasetGenerator(keras.utils.Sequence):\n",
        "  def __init__(self, dataset, batch_size, embedding_model):\n",
        "    self.dataset = dataset\n",
        "    self.batch_size = batch_size\n",
        "    self.apply_embedding = create_apply_embedding(embedding_model)\n",
        "\n",
        "  def __len__(self):\n",
        "    return math.ceil(len(self.dataset)/self.batch_size)\n",
        "  \n",
        "  def __getitem__(self, idx):\n",
        "    batch_vectors = np.stack(self.dataset.iloc[idx * self.batch_size : (idx+1) * self.batch_size].apply(self.apply_embedding, axis=1).values)\n",
        "    batch_labelindex = np.stack(self.dataset.iloc[idx * self.batch_size : (idx+1) * self.batch_size].apply(apply_label_index, axis=1).values)\n",
        "\n",
        "    return batch_vectors, batch_labelindex"
      ],
      "metadata": {
        "id": "5XhmR9M87yzf"
      },
      "execution_count": 15,
      "outputs": []
    },
    {
      "cell_type": "code",
      "source": [
        "# valid_dataset[\"Vector\"] = valid_dataset.apply(apply_embedding, axis=1)\n",
        "# valid_dataset[\"LabelIndex\"] = valid_dataset.apply(apply_label_index, axis=1)\n",
        "# test_dataset[\"Vector\"] = test_dataset.apply(apply_embedding, axis=1)\n",
        "# test_dataset[\"LabelIndex\"] = test_dataset.apply(apply_label_index, axis=1)"
      ],
      "metadata": {
        "id": "vM8Xti0BEK3C"
      },
      "execution_count": 23,
      "outputs": []
    },
    {
      "cell_type": "code",
      "source": [
        "train_dataset_generator = DatasetGenerator(dataset=train_dataset, batch_size=32, embedding_model=word2vec_model)\n",
        "valid_dataset_generator = DatasetGenerator(dataset=valid_dataset, batch_size=32, embedding_model=word2vec_model)\n",
        "test_dataset_generator = DatasetGenerator(dataset=test_dataset, batch_size=32, embedding_model=word2vec_model)"
      ],
      "metadata": {
        "id": "H4xSfM0X_STj"
      },
      "execution_count": 26,
      "outputs": []
    },
    {
      "cell_type": "markdown",
      "source": [
        "# BiLSTM Model"
      ],
      "metadata": {
        "id": "JoWZ32S5ojMA"
      }
    },
    {
      "cell_type": "code",
      "source": [
        "class BiLSTM(keras.Model):\n",
        "  def __init__(self, number_lstm_cells):\n",
        "    super().__init__()\n",
        "    self.model = Sequential([\n",
        "                             Input((max_number_sequence, 300)),\n",
        "                             Bidirectional(LSTM(number_lstm_cells, return_sequences=True)),\n",
        "                             TimeDistributed(Dense(number_labels, activation=\"softmax\"))\n",
        "    ])\n",
        "  \n",
        "  def call(self, inputs):\n",
        "    return self.model(inputs)"
      ],
      "metadata": {
        "id": "nTHIJe_mgumH"
      },
      "execution_count": 23,
      "outputs": []
    },
    {
      "cell_type": "code",
      "source": [
        "def ignore_class_accuracy(to_ignore=0):\n",
        "   # Refrence: https://nlpforhackers.io/lstm-pos-tagger-keras/\n",
        "  \n",
        "  def ignore_accuracy(y_true, y_pred):\n",
        "    y_pred_class = K.argmax(y_pred, axis=-1)\n",
        "    y_true_class = K.argmax(y_true, axis=-1)\n",
        "    y_true_class = K.cast(y_true, \"int64\")\n",
        "\n",
        "    ignore_mask = K.cast(K.not_equal(y_pred_class, to_ignore), 'int32')\n",
        "    matches = K.cast(K.equal(y_true_class, y_pred_class), 'int32') * ignore_mask\n",
        "    accuracy = K.sum(matches) / K.maximum(K.sum(ignore_mask), 1)\n",
        "    return accuracy\n",
        "  \n",
        "  return ignore_accuracy"
      ],
      "metadata": {
        "id": "sA7CLu_kDfdp"
      },
      "execution_count": 24,
      "outputs": []
    },
    {
      "cell_type": "code",
      "source": [
        "bilstm_model = BiLSTM(64)"
      ],
      "metadata": {
        "id": "o7xMgHlm9JiI"
      },
      "execution_count": 25,
      "outputs": []
    },
    {
      "cell_type": "code",
      "source": [
        "bilstm_model.compile(optimizer=Adam(0.01), loss=\"sparse_categorical_crossentropy\", metrics=[\"Accuracy\", ignore_class_accuracy(0)])"
      ],
      "metadata": {
        "id": "x-OEj3RmzCjm"
      },
      "execution_count": 27,
      "outputs": []
    },
    {
      "cell_type": "code",
      "source": [
        "es_callback = EarlyStopping(monitor=\"val_loss\", patience=4, restore_best_weights=True)"
      ],
      "metadata": {
        "id": "u8FqSJKR0OvT"
      },
      "execution_count": 28,
      "outputs": []
    },
    {
      "cell_type": "code",
      "source": [
        "history = bilstm_model.fit(x=train_dataset_generator,\n",
        "                           epochs=20, callbacks=[es_callback],\n",
        "                           validation_data=valid_dataset_generator)"
      ],
      "metadata": {
        "colab": {
          "base_uri": "https://localhost:8080/"
        },
        "id": "LDjeKwxS_DX7",
        "outputId": "2955e940-967d-4e49-8660-bac8a4d60d32"
      },
      "execution_count": 29,
      "outputs": [
        {
          "output_type": "stream",
          "name": "stdout",
          "text": [
            "Epoch 1/20\n",
            "1245/1245 [==============================] - 50s 38ms/step - loss: 0.2403 - Accuracy: 0.9382 - ignore_accuracy: 0.6488 - val_loss: 0.1681 - val_Accuracy: 0.9530 - val_ignore_accuracy: 0.7239\n",
            "Epoch 2/20\n",
            "1245/1245 [==============================] - 48s 39ms/step - loss: 0.1490 - Accuracy: 0.9574 - ignore_accuracy: 0.7531 - val_loss: 0.1445 - val_Accuracy: 0.9591 - val_ignore_accuracy: 0.7600\n",
            "Epoch 3/20\n",
            "1245/1245 [==============================] - 46s 37ms/step - loss: 0.1310 - Accuracy: 0.9619 - ignore_accuracy: 0.7793 - val_loss: 0.1369 - val_Accuracy: 0.9606 - val_ignore_accuracy: 0.7694\n",
            "Epoch 4/20\n",
            "1245/1245 [==============================] - 46s 37ms/step - loss: 0.1211 - Accuracy: 0.9644 - ignore_accuracy: 0.7944 - val_loss: 0.1313 - val_Accuracy: 0.9625 - val_ignore_accuracy: 0.7807\n",
            "Epoch 5/20\n",
            "1245/1245 [==============================] - 46s 37ms/step - loss: 0.1157 - Accuracy: 0.9659 - ignore_accuracy: 0.8032 - val_loss: 0.1298 - val_Accuracy: 0.9630 - val_ignore_accuracy: 0.7835\n",
            "Epoch 6/20\n",
            "1245/1245 [==============================] - 47s 38ms/step - loss: 0.1133 - Accuracy: 0.9667 - ignore_accuracy: 0.8078 - val_loss: 0.1297 - val_Accuracy: 0.9634 - val_ignore_accuracy: 0.7869\n",
            "Epoch 7/20\n",
            "1245/1245 [==============================] - 46s 37ms/step - loss: 0.1140 - Accuracy: 0.9667 - ignore_accuracy: 0.8079 - val_loss: 0.1335 - val_Accuracy: 0.9625 - val_ignore_accuracy: 0.7796\n",
            "Epoch 8/20\n",
            "1245/1245 [==============================] - 46s 37ms/step - loss: 0.1115 - Accuracy: 0.9674 - ignore_accuracy: 0.8117 - val_loss: 0.1296 - val_Accuracy: 0.9639 - val_ignore_accuracy: 0.7884\n",
            "Epoch 9/20\n",
            "1245/1245 [==============================] - 47s 37ms/step - loss: 0.1189 - Accuracy: 0.9659 - ignore_accuracy: 0.8035 - val_loss: 0.1399 - val_Accuracy: 0.9619 - val_ignore_accuracy: 0.7768\n",
            "Epoch 10/20\n",
            "1245/1245 [==============================] - 46s 37ms/step - loss: 0.1149 - Accuracy: 0.9668 - ignore_accuracy: 0.8082 - val_loss: 0.1347 - val_Accuracy: 0.9630 - val_ignore_accuracy: 0.7836\n",
            "Epoch 11/20\n",
            "1245/1245 [==============================] - 46s 37ms/step - loss: 0.1191 - Accuracy: 0.9657 - ignore_accuracy: 0.8016 - val_loss: 0.1374 - val_Accuracy: 0.9623 - val_ignore_accuracy: 0.7793\n",
            "Epoch 12/20\n",
            "1245/1245 [==============================] - 46s 37ms/step - loss: 0.1269 - Accuracy: 0.9635 - ignore_accuracy: 0.7891 - val_loss: 0.1399 - val_Accuracy: 0.9613 - val_ignore_accuracy: 0.7734\n"
          ]
        }
      ]
    },
    {
      "cell_type": "markdown",
      "source": [
        "# Evaluation"
      ],
      "metadata": {
        "id": "yj1_Kz3JWYRV"
      }
    },
    {
      "cell_type": "code",
      "source": [
        "bilstm_model.evaluate(test_dataset_generator)\n",
        "    # np.stack(test_dataset[\"Vector\"].values),\n",
        "    #                   np.stack(test_dataset[\"LabelIndex\"].values))"
      ],
      "metadata": {
        "colab": {
          "base_uri": "https://localhost:8080/"
        },
        "id": "wJ15Y_38Lfo0",
        "outputId": "56d9022d-8537-4fc3-cde9-5cca1b65a5bf"
      },
      "execution_count": 47,
      "outputs": [
        {
          "output_type": "stream",
          "name": "stdout",
          "text": [
            "76/76 [==============================] - 4s 50ms/step - loss: 0.1475 - Accuracy: 0.9586 - ignore_accuracy: 0.7566\n"
          ]
        },
        {
          "output_type": "execute_result",
          "data": {
            "text/plain": [
              "[0.14749988913536072, 0.9585564136505127, 0.7566297650337219]"
            ]
          },
          "metadata": {},
          "execution_count": 47
        }
      ]
    },
    {
      "cell_type": "code",
      "source": [
        "train_loss = history.history[\"loss\"]\n",
        "valid_loss = history.history[\"val_loss\"]\n",
        "\n",
        "plt.scatter(range(1, len(train_loss)+1), train_loss, color=\"red\")\n",
        "plt.scatter(range(1, len(train_loss)+1), valid_loss, color=\"green\")\n",
        "\n",
        "plt.plot(range(1, len(train_loss)+1), train_loss, color=\"red\", label=\"Train Loss\")\n",
        "plt.plot(range(1, len(train_loss)+1), valid_loss, color=\"green\", label=\"Validation Loss\")\n",
        "\n",
        "plt.legend()\n",
        "plt.title(\"Loss changes in training\")\n",
        "plt.xlabel(\"Epoch\")\n",
        "plt.ylabel(\"Loss\")\n",
        "plt.show()"
      ],
      "metadata": {
        "id": "Jflo1jNA2aJF",
        "colab": {
          "base_uri": "https://localhost:8080/",
          "height": 295
        },
        "outputId": "0bd55da0-46e2-4c88-95bc-30fd063d580a"
      },
      "execution_count": null,
      "outputs": [
        {
          "output_type": "display_data",
          "data": {
            "text/plain": [
              "<Figure size 432x288 with 1 Axes>"
            ],
            "image/png": "[encoded data removed]"
          },
          "metadata": {
            "needs_background": "light"
          }
        }
      ]
    },
    {
      "cell_type": "markdown",
      "source": [
        ""
      ],
      "metadata": {
        "id": "WUj4zXzll56j"
      }
    },
    {
      "cell_type": "code",
      "source": [
        ""
      ],
      "metadata": {
        "id": "r2VDch3QXD9d"
      },
      "execution_count": null,
      "outputs": []
    }
  ]
}