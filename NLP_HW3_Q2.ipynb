{
  "nbformat": 4,
  "nbformat_minor": 0,
  "metadata": {
    "colab": {
      "name": "NLP-HW3-Q2.ipynb",
      "provenance": [],
      "collapsed_sections": [],
      "toc_visible": true,
      "include_colab_link": true
    },
    "kernelspec": {
      "name": "python3",
      "display_name": "Python 3"
    },
    "language_info": {
      "name": "python"
    },
    "accelerator": "GPU"
  },
  "cells": [
    {
      "cell_type": "markdown",
      "metadata": {
        "id": "view-in-github",
        "colab_type": "text"
      },
      "source": [
        "<a href=\"https://colab.research.google.com/github/AUT-Student/NLP-HW3/blob/main/NLP_HW3_Q2.ipynb\" target=\"_parent\"><img src=\"https://colab.research.google.com/assets/colab-badge.svg\" alt=\"Open In Colab\"/></a>"
      ]
    },
    {
      "cell_type": "markdown",
      "source": [
        "<center><b>In the name of God</b></center>\n",
        "\n",
        "<b>Course</b>: Natural Language Processing\n",
        "<br>\n",
        "<b>Description:</b> HomeWork 3 | Question 2\n",
        "<br>\n",
        "<b>Developer</b>: Alireza Mazochi (400131075)"
      ],
      "metadata": {
        "id": "2NWW6XA4H_LL"
      }
    },
    {
      "cell_type": "markdown",
      "source": [
        "# Libraries"
      ],
      "metadata": {
        "id": "PDHYaymPspGE"
      }
    },
    {
      "cell_type": "code",
      "source": [
        "import numpy as np\n",
        "import pandas as pd\n",
        "import matplotlib.pyplot as plt\n",
        "import math\n",
        "from sklearn.metrics import confusion_matrix, recall_score, precision_score, accuracy_score\n",
        "\n",
        "from gensim.models.word2vec import Word2Vec\n",
        "import gensim.downloader as gensim_api\n",
        "\n",
        "import tensorflow as tf\n",
        "import tensorflow.keras as keras\n",
        "from keras.layers import LSTM, GRU, Dense, Input, Embedding, Dropout\n",
        "from keras.layers import Bidirectional, TimeDistributed\n",
        "from keras.callbacks import EarlyStopping\n",
        "from keras.models import Sequential\n",
        "from keras import backend as K\n",
        "from keras.optimizer_v2.adam import Adam"
      ],
      "metadata": {
        "id": "4MrF0WJNsrSq"
      },
      "execution_count": null,
      "outputs": []
    },
    {
      "cell_type": "markdown",
      "source": [
        "# Dataset"
      ],
      "metadata": {
        "id": "sw8b4NRMsmu-"
      }
    },
    {
      "cell_type": "code",
      "execution_count": null,
      "metadata": {
        "id": "qZY9QbGJsacm",
        "colab": {
          "base_uri": "https://localhost:8080/"
        },
        "outputId": "4bfd1d86-d999-4298-a98f-fd60f7454391"
      },
      "outputs": [
        {
          "output_type": "stream",
          "name": "stdout",
          "text": [
            "Downloading...\n",
            "From: https://drive.google.com/uc?id=11WeeMttH6I6MJ0t1h7FVSEtw0lKwpRA6\n",
            "To: /content/dev.conll\n",
            "100% 478k/478k [00:00<00:00, 116MB/s]\n",
            "Downloading...\n",
            "From: https://drive.google.com/uc?id=1gLGNxjQzy6C8y4Oivr8etU1MMGfuKuEE\n",
            "To: /content/test.conll\n",
            "100% 677k/677k [00:00<00:00, 134MB/s]\n",
            "Downloading...\n",
            "From: https://drive.google.com/uc?id=127-sOeW6KMf6XNSAVM3bGjfwnmW0NciU\n",
            "To: /content/train.conll\n",
            "100% 11.4M/11.4M [00:00<00:00, 237MB/s]\n"
          ]
        }
      ],
      "source": [
        "!gdown 11WeeMttH6I6MJ0t1h7FVSEtw0lKwpRA6\n",
        "!gdown 1gLGNxjQzy6C8y4Oivr8etU1MMGfuKuEE\n",
        "!gdown 127-sOeW6KMf6XNSAVM3bGjfwnmW0NciU"
      ]
    },
    {
      "cell_type": "code",
      "source": [
        "def dependency_create(row):\n",
        "  dependency_index = row[\"DependencyIndex\"]\n",
        "  index = row[\"Index\"]\n",
        "\n",
        "  if dependency_index == 0:\n",
        "    return \"Root\"\n",
        "  else:\n",
        "    different = dependency_index - index\n",
        "\n",
        "    if different > 0:\n",
        "      return f\"{different}R\"\n",
        "    elif different < 0:\n",
        "      return f\"{abs(different)}L\"\n",
        "    else:\n",
        "      raise Exception(row)"
      ],
      "metadata": {
        "id": "qssCLRjyiz7v"
      },
      "execution_count": null,
      "outputs": []
    },
    {
      "cell_type": "code",
      "source": [
        "def load_and_preprocess_dataset(path):\n",
        "  dataset = pd.read_csv(path, delimiter=\"\\t\", header=None, names=[\"Index\", \"Word\", \"DependencyIndex\"])\n",
        "  dataset = dataset.dropna()\n",
        "  dataset[\"Index\"] = dataset[\"Index\"].astype(int)\n",
        "  dataset[\"DependencyIndex\"] = dataset[\"DependencyIndex\"].astype(int)\n",
        "  dataset[\"Dependency\"] = dataset.apply(dependency_create, axis=1)\n",
        "\n",
        "  return dataset"
      ],
      "metadata": {
        "id": "V3CkceiVuUm3"
      },
      "execution_count": null,
      "outputs": []
    },
    {
      "cell_type": "code",
      "source": [
        "train_dataset = load_and_preprocess_dataset(\"/content/train.conll\")\n",
        "valid_dataset = load_and_preprocess_dataset(\"/content/dev.conll\")\n",
        "test_dataset = load_and_preprocess_dataset(\"/content/test.conll\")"
      ],
      "metadata": {
        "id": "QiMnRVuuszxO"
      },
      "execution_count": null,
      "outputs": []
    },
    {
      "cell_type": "code",
      "source": [
        "label_dictionary = {\"PAD\": 0}\n",
        "\n",
        "for i, label in enumerate(set(train_dataset[\"Dependency\"].values.tolist() +\n",
        "                              valid_dataset[\"Dependency\"].values.tolist() +\n",
        "                              test_dataset[\"Dependency\"].values.tolist())):\n",
        "  label_dictionary[label] = i+1"
      ],
      "metadata": {
        "id": "nHeb23kj5mzS"
      },
      "execution_count": null,
      "outputs": []
    },
    {
      "cell_type": "code",
      "source": [
        "number_labels = len(label_dictionary)"
      ],
      "metadata": {
        "id": "S7VgSz3KqMvg"
      },
      "execution_count": null,
      "outputs": []
    },
    {
      "cell_type": "code",
      "source": [
        "max_number_sequence = max(max(train_dataset[\"Index\"].values), max(valid_dataset[\"Index\"].values), max(test_dataset[\"Index\"].values))"
      ],
      "metadata": {
        "id": "FoePuY3FQX31"
      },
      "execution_count": null,
      "outputs": []
    },
    {
      "cell_type": "markdown",
      "source": [
        "# Embedding"
      ],
      "metadata": {
        "id": "GbT_BSCkslbl"
      }
    },
    {
      "cell_type": "code",
      "source": [
        "print(gensim_api.load(\"word2vec-google-news-300\", return_path=True))\n",
        "print(gensim_api.load(\"glove-wiki-gigaword-300\", return_path=True))"
      ],
      "metadata": {
        "id": "YUxKJP4Ir78e",
        "colab": {
          "base_uri": "https://localhost:8080/"
        },
        "outputId": "b380ba73-8016-44be-a128-afc61c3045f4"
      },
      "execution_count": null,
      "outputs": [
        {
          "output_type": "stream",
          "name": "stdout",
          "text": [
            "[==================================================] 100.0% 1662.8/1662.8MB downloaded\n",
            "/root/gensim-data/word2vec-google-news-300/word2vec-google-news-300.gz\n",
            "[==================================================] 100.0% 376.1/376.1MB downloaded\n",
            "/root/gensim-data/glove-wiki-gigaword-300/glove-wiki-gigaword-300.gz\n"
          ]
        }
      ]
    },
    {
      "cell_type": "code",
      "source": [
        "word2vec_model = gensim_api.load(\"word2vec-google-news-300\")\n",
        "glove_model = gensim_api.load(\"glove-wiki-gigaword-300\")"
      ],
      "metadata": {
        "id": "P2IuiFpbsYOE"
      },
      "execution_count": null,
      "outputs": []
    },
    {
      "cell_type": "markdown",
      "source": [
        "# Sequence Dataset"
      ],
      "metadata": {
        "id": "GRnNBK0uhdHA"
      }
    },
    {
      "cell_type": "code",
      "source": [
        "def convert_to_sequence(dataset):\n",
        "  sequenced_dataset = []\n",
        "\n",
        "  for i, item in dataset.iterrows():\n",
        "    if item[\"Index\"] == 1:\n",
        "      if i>0:\n",
        "        sequenced_dataset.append({\"Words\": new_words, \"Labels\": new_labels})\n",
        "      new_words = [item[\"Word\"]]\n",
        "      new_labels = [item[\"Dependency\"]]\n",
        "    else:\n",
        "      new_words.append(item[\"Word\"])\n",
        "      new_labels.append(item[\"Dependency\"])\n",
        "  \n",
        "  sequenced_dataset.append({\"Words\": new_words, \"Labels\": new_labels})\n",
        "  return pd.DataFrame(sequenced_dataset)"
      ],
      "metadata": {
        "id": "HOJ3BPYVQ-Kx"
      },
      "execution_count": null,
      "outputs": []
    },
    {
      "cell_type": "code",
      "source": [
        "train_dataset = convert_to_sequence(train_dataset)\n",
        "valid_dataset = convert_to_sequence(valid_dataset)\n",
        "test_dataset = convert_to_sequence(test_dataset)"
      ],
      "metadata": {
        "id": "6FGsGs15S7OM"
      },
      "execution_count": null,
      "outputs": []
    },
    {
      "cell_type": "code",
      "source": [
        "def create_apply_embedding(embedding_model):\n",
        "  def apply_embedding(row):\n",
        "    vectors = []\n",
        "    for word in row[\"Words\"]:\n",
        "      try:\n",
        "        vector = embedding_model.get_vector(word)\n",
        "      except KeyError:\n",
        "        vector = np.zeros(300)\n",
        "      vectors.append(vector)\n",
        "\n",
        "    for i in range(141-len(row[\"Words\"])):\n",
        "      vectors.append(np.zeros(300))\n",
        "\n",
        "    return np.stack(vectors)\n",
        "\n",
        "  return apply_embedding"
      ],
      "metadata": {
        "id": "jdN6kgdj2dms"
      },
      "execution_count": null,
      "outputs": []
    },
    {
      "cell_type": "code",
      "source": [
        "def apply_label_index(row):\n",
        "  labels = []\n",
        "  for label in row[\"Labels\"]:\n",
        "    labels.append(label_dictionary[label])\n",
        "\n",
        "  for i in range(max_number_sequence-len(row[\"Labels\"])):\n",
        "    labels.append(label_dictionary[\"PAD\"])\n",
        "  \n",
        "  return np.stack(labels)"
      ],
      "metadata": {
        "id": "oLgSh1_Y6p5J"
      },
      "execution_count": null,
      "outputs": []
    },
    {
      "cell_type": "code",
      "source": [
        "class DatasetGenerator(keras.utils.Sequence):\n",
        "  def __init__(self, dataset, batch_size, embedding_model):\n",
        "    self.dataset = dataset\n",
        "    self.batch_size = batch_size\n",
        "    self.apply_embedding = create_apply_embedding(embedding_model)\n",
        "\n",
        "  def __len__(self):\n",
        "    return math.ceil(len(self.dataset)/self.batch_size)\n",
        "  \n",
        "  def __getitem__(self, idx):\n",
        "    batch_vectors = np.stack(self.dataset.iloc[idx * self.batch_size : (idx+1) * self.batch_size].apply(self.apply_embedding, axis=1).values)\n",
        "    batch_labelindex = np.stack(self.dataset.iloc[idx * self.batch_size : (idx+1) * self.batch_size].apply(apply_label_index, axis=1).values)\n",
        "\n",
        "    return batch_vectors, batch_labelindex"
      ],
      "metadata": {
        "id": "5XhmR9M87yzf"
      },
      "execution_count": null,
      "outputs": []
    },
    {
      "cell_type": "markdown",
      "source": [
        "# BiRNN Model"
      ],
      "metadata": {
        "id": "JoWZ32S5ojMA"
      }
    },
    {
      "cell_type": "code",
      "source": [
        "class BiRNN(keras.Model):\n",
        "  def __init__(self, number_cells, rnn_cell=LSTM, number_rnn_layers=1, number_hidden_fc_layers=0, dropout_rate=0):\n",
        "    super().__init__()\n",
        "\n",
        "    self.model = Sequential([])\n",
        "    self.model.add(Input((max_number_sequence, 300)))\n",
        "\n",
        "    for _ in range(number_rnn_layers):\n",
        "      self.model.add(Bidirectional(rnn_cell(number_cells, return_sequences=True)))\n",
        "\n",
        "    for _ in range(number_hidden_fc_layers):\n",
        "      self.model.add(Dense(number_cells))\n",
        "\n",
        "    self.model.add(Dropout(dropout_rate))\n",
        "    self.model.add(TimeDistributed(Dense(number_labels, activation=\"softmax\")))\n",
        "  \n",
        "  def call(self, inputs):\n",
        "    return self.model(inputs)"
      ],
      "metadata": {
        "id": "nTHIJe_mgumH"
      },
      "execution_count": null,
      "outputs": []
    },
    {
      "cell_type": "code",
      "source": [
        "def ignore_class_accuracy(to_ignore=0):\n",
        "   # Refrence: https://nlpforhackers.io/lstm-pos-tagger-keras/\n",
        "  \n",
        "  def ignore_accuracy(y_true, y_pred):\n",
        "    y_pred_class = K.argmax(y_pred, axis=-1)\n",
        "    y_true_class = K.argmax(y_true, axis=-1)\n",
        "    y_true_class = K.cast(y_true, \"int64\")\n",
        "\n",
        "    ignore_mask = K.cast(K.not_equal(y_pred_class, to_ignore), 'int32')\n",
        "    matches = K.cast(K.equal(y_true_class, y_pred_class), 'int32') * ignore_mask\n",
        "    accuracy = K.sum(matches) / K.maximum(K.sum(ignore_mask), 1)\n",
        "    return accuracy\n",
        "  \n",
        "  return ignore_accuracy"
      ],
      "metadata": {
        "id": "sA7CLu_kDfdp"
      },
      "execution_count": null,
      "outputs": []
    },
    {
      "cell_type": "markdown",
      "source": [
        "# Model Selection"
      ],
      "metadata": {
        "id": "nxKp0uEj71dc"
      }
    },
    {
      "cell_type": "code",
      "source": [
        "for embedding_name, embedding_model in [(\"Word2Vec\", word2vec_model),\n",
        "                                        (\"GloVe\",glove_model)]:\n",
        "  \n",
        "  train_dataset_generator = DatasetGenerator(dataset=train_dataset, batch_size=32, embedding_model=embedding_model)\n",
        "  valid_dataset_generator = DatasetGenerator(dataset=valid_dataset, batch_size=32, embedding_model=embedding_model)\n",
        "  test_dataset_generator = DatasetGenerator(dataset=test_dataset, batch_size=32, embedding_model=embedding_model)\n",
        "\n",
        "  for rnn_cell in [LSTM, GRU]:\n",
        "    for number_rnn_layers, number_hidden_fc_layers, dropout_rate in [(1, 0, 0), (2, 2, 0.5)]:\n",
        "        print(f\"Embedding = {embedding_name} | Cell = {rnn_cell} | #RNN Layers = {number_rnn_layers} | #Hidden FC Layers = {number_hidden_fc_layers} | Dropout Rate = {dropout_rate}\")\n",
        "\n",
        "        model = BiRNN(number_cells=32, rnn_cell=rnn_cell,\n",
        "                      number_rnn_layers=number_rnn_layers,\n",
        "                      number_hidden_fc_layers=number_hidden_fc_layers,\n",
        "                      dropout_rate=dropout_rate)\n",
        "        \n",
        "        model.compile(optimizer=Adam(0.01),\n",
        "                      loss=\"sparse_categorical_crossentropy\",\n",
        "                      metrics=[\"Accuracy\", ignore_class_accuracy(0)])\n",
        "        \n",
        "        es_callback = EarlyStopping(monitor=\"val_loss\", patience=4, restore_best_weights=True)\n",
        "\n",
        "        history = model.fit(x=train_dataset_generator,\n",
        "                            epochs=20, callbacks=[es_callback],\n",
        "                            validation_data=valid_dataset_generator, verbose=0)\n",
        "        \n",
        "        print(f\"Train Real Accuracy = {round(model.evaluate(train_dataset_generator, verbose=0)[2]*100, 2)}\", end=\" | \")\n",
        "        print(f\"Valid Real Accuracy = {round(model.evaluate(valid_dataset_generator, verbose=0)[2]*100, 2)}\", end=\" | \")\n",
        "        print(f\"Test Real Accuracy = {round(model.evaluate(test_dataset_generator, verbose=0)[2]*100, 2)}\\n\")"
      ],
      "metadata": {
        "colab": {
          "base_uri": "https://localhost:8080/"
        },
        "outputId": "f83470ee-eea3-454e-a679-c5ba7f7e169d",
        "id": "ipN15-quHbKK"
      },
      "execution_count": null,
      "outputs": [
        {
          "output_type": "stream",
          "name": "stdout",
          "text": [
            "Embedding = Word2Vec | Cell = <class 'keras.layers.recurrent_v2.LSTM'> | #RNN Layers = 1 | #Hidden FC Layers = 0 | Dropout Rate = 0\n",
            "Train Real Accuracy = 80.53 | Valid Real Accuracy = 77.12 | Test Real Accuracy = 77.36\n",
            "\n",
            "Embedding = Word2Vec | Cell = <class 'keras.layers.recurrent_v2.LSTM'> | #RNN Layers = 2 | #Hidden FC Layers = 2 | Dropout Rate = 0.5\n",
            "Train Real Accuracy = 85.88 | Valid Real Accuracy = 81.29 | Test Real Accuracy = 81.44\n",
            "\n",
            "Embedding = Word2Vec | Cell = <class 'keras.layers.recurrent_v2.GRU'> | #RNN Layers = 1 | #Hidden FC Layers = 0 | Dropout Rate = 0\n",
            "Train Real Accuracy = 77.2 | Valid Real Accuracy = 74.78 | Test Real Accuracy = 75.56\n",
            "\n",
            "Embedding = Word2Vec | Cell = <class 'keras.layers.recurrent_v2.GRU'> | #RNN Layers = 2 | #Hidden FC Layers = 2 | Dropout Rate = 0.5\n",
            "Train Real Accuracy = 78.23 | Valid Real Accuracy = 76.12 | Test Real Accuracy = 76.61\n",
            "\n",
            "Embedding = GloVe | Cell = <class 'keras.layers.recurrent_v2.LSTM'> | #RNN Layers = 1 | #Hidden FC Layers = 0 | Dropout Rate = 0\n",
            "Train Real Accuracy = 78.46 | Valid Real Accuracy = 75.62 | Test Real Accuracy = 75.98\n",
            "\n",
            "Embedding = GloVe | Cell = <class 'keras.layers.recurrent_v2.LSTM'> | #RNN Layers = 2 | #Hidden FC Layers = 2 | Dropout Rate = 0.5\n",
            "Train Real Accuracy = 75.6 | Valid Real Accuracy = 73.43 | Test Real Accuracy = 73.74\n",
            "\n",
            "Embedding = GloVe | Cell = <class 'keras.layers.recurrent_v2.GRU'> | #RNN Layers = 1 | #Hidden FC Layers = 0 | Dropout Rate = 0\n",
            "Train Real Accuracy = 71.57 | Valid Real Accuracy = 69.41 | Test Real Accuracy = 70.26\n",
            "\n",
            "Embedding = GloVe | Cell = <class 'keras.layers.recurrent_v2.GRU'> | #RNN Layers = 2 | #Hidden FC Layers = 2 | Dropout Rate = 0.5\n",
            "Train Real Accuracy = 76.22 | Valid Real Accuracy = 74.13 | Test Real Accuracy = 74.85\n",
            "\n"
          ]
        }
      ]
    },
    {
      "cell_type": "markdown",
      "source": [
        "# Evaluation"
      ],
      "metadata": {
        "id": "yj1_Kz3JWYRV"
      }
    },
    {
      "cell_type": "code",
      "source": [
        "train_dataset_generator = DatasetGenerator(dataset=train_dataset, batch_size=32, embedding_model=word2vec_model)\n",
        "valid_dataset_generator = DatasetGenerator(dataset=valid_dataset, batch_size=32, embedding_model=word2vec_model)\n",
        "test_dataset_generator = DatasetGenerator(dataset=test_dataset, batch_size=32, embedding_model=word2vec_model)\n",
        "\n",
        "model = BiRNN(number_cells=32, rnn_cell=LSTM,\n",
        "              number_rnn_layers=2,\n",
        "              number_hidden_fc_layers=2,\n",
        "              dropout_rate=0.5)\n",
        "\n",
        "model.compile(optimizer=Adam(0.01),\n",
        "              loss=\"sparse_categorical_crossentropy\",\n",
        "              metrics=[\"Accuracy\", ignore_class_accuracy(0)])\n",
        "\n",
        "es_callback = EarlyStopping(monitor=\"val_loss\", patience=4, restore_best_weights=True)\n",
        "\n",
        "history = model.fit(x=train_dataset_generator,\n",
        "        epochs=20, callbacks=[es_callback],\n",
        "        validation_data=valid_dataset_generator, verbose=0)"
      ],
      "metadata": {
        "id": "_eHXXuDAr1za"
      },
      "execution_count": null,
      "outputs": []
    },
    {
      "cell_type": "code",
      "source": [
        "print(f\"Train Real Accuracy = {round(model.evaluate(train_dataset_generator, verbose=0)[2]*100, 2)}\", end=\" | \")\n",
        "print(f\"Valid Real Accuracy = {round(model.evaluate(valid_dataset_generator, verbose=0)[2]*100, 2)}\", end=\" | \")\n",
        "print(f\"Test Real Accuracy = {round(model.evaluate(test_dataset_generator, verbose=0)[2]*100, 2)}\\n\")"
      ],
      "metadata": {
        "colab": {
          "base_uri": "https://localhost:8080/"
        },
        "id": "evXd0WaOvfdH",
        "outputId": "3acd1c92-5ea3-4886-a937-4697ef817af3"
      },
      "execution_count": null,
      "outputs": [
        {
          "output_type": "stream",
          "name": "stdout",
          "text": [
            "Train Real Accuracy = 84.44 | Valid Real Accuracy = 80.49 | Test Real Accuracy = 80.67\n",
            "\n"
          ]
        }
      ]
    },
    {
      "cell_type": "code",
      "source": [
        "test_predict = model.predict(test_dataset_generator)\n",
        "test_predict = K.argmax(test_predict).numpy()\n",
        "test_predict = test_predict.ravel()"
      ],
      "metadata": {
        "id": "4_Vy1e1ci9Hn"
      },
      "execution_count": null,
      "outputs": []
    },
    {
      "cell_type": "code",
      "source": [
        "test_true = []\n",
        "for i in range(len(test_dataset_generator)):\n",
        "  for row in test_dataset_generator.__getitem__(i)[1]:\n",
        "    test_true.append(row)\n",
        "test_true = np.stack(test_true).squeeze()\n",
        "test_true = test_true.ravel()"
      ],
      "metadata": {
        "id": "OOH-dhuvmaiH"
      },
      "execution_count": null,
      "outputs": []
    },
    {
      "cell_type": "code",
      "source": [
        "matrix = confusion_matrix(test_true, test_predict)"
      ],
      "metadata": {
        "id": "DoCUrLoZu8ZW"
      },
      "execution_count": null,
      "outputs": []
    },
    {
      "cell_type": "code",
      "source": [
        "accuracy = accuracy_score(test_true, test_predict, sample_weight=np.array([(0 if item else 1) for item in test_true==0]))\n",
        "\n",
        "number_data = []\n",
        "for i in range(len(matrix)):\n",
        "  number_data.append(sum(matrix[i]))\n",
        "\n",
        "precisions = []\n",
        "recalls = []\n",
        "for i in range(len(matrix)):\n",
        "  if sum(matrix[:,i])>0:\n",
        "    precisions.append(matrix[i,i]/sum(matrix[:,i]))\n",
        "  if sum(matrix[i])>0:\n",
        "    recalls.append(matrix[i,i]/sum(matrix[i]))\n",
        "\n",
        "precision = np.average(precisions[1:])\n",
        "recall = np.average(recalls[1:])\n",
        "f1 = 2 * precision * recall / (precision + recall)\n",
        "\n",
        "print(f\"Accuracy = {round(accuracy*100, 2)}%\")\n",
        "print(f\"Precision = {round(precision*100, 2)}%\")\n",
        "print(f\"Recall = {round(recall*100, 2)}%\")\n",
        "print(f\"F1 = {round(f1*100, 2)}%\")"
      ],
      "metadata": {
        "colab": {
          "base_uri": "https://localhost:8080/"
        },
        "id": "WAjk6ETr14Jm",
        "outputId": "a4c8879a-a971-4b7f-d785-506af55f6ace"
      },
      "execution_count": null,
      "outputs": [
        {
          "output_type": "stream",
          "name": "stdout",
          "text": [
            "Accuracy = 80.21%\n",
            "Precision = 40.11%\n",
            "Recall = 18.48%\n",
            "F1 = 25.31%\n"
          ]
        }
      ]
    },
    {
      "cell_type": "code",
      "source": [
        "train_loss = history.history[\"loss\"]\n",
        "valid_loss = history.history[\"val_loss\"]\n",
        "\n",
        "plt.scatter(range(1, len(train_loss)+1), train_loss, color=\"red\")\n",
        "plt.scatter(range(1, len(train_loss)+1), valid_loss, color=\"green\")\n",
        "\n",
        "plt.plot(range(1, len(train_loss)+1), train_loss, color=\"red\", label=\"Train Loss\")\n",
        "plt.plot(range(1, len(train_loss)+1), valid_loss, color=\"green\", label=\"Validation Loss\")\n",
        "\n",
        "plt.legend()\n",
        "plt.title(\"Loss changes in training\")\n",
        "plt.xlabel(\"Epoch\")\n",
        "plt.ylabel(\"Loss\")\n",
        "plt.show()"
      ],
      "metadata": {
        "id": "Jflo1jNA2aJF",
        "colab": {
          "base_uri": "https://localhost:8080/",
          "height": 295
        },
        "outputId": "d1afcc1f-07eb-452e-926c-2881ec3d1655"
      },
      "execution_count": null,
      "outputs": [
        {
          "output_type": "display_data",
          "data": {
            "text/plain": [
              "<Figure size 432x288 with 1 Axes>"
            ],
            "image/png": "[encoded data removed]"
          },
          "metadata": {
            "needs_background": "light"
          }
        }
      ]
    },
    {
      "cell_type": "code",
      "source": [
        "def parse(text, embedding_model):\n",
        "  words = text.split()\n",
        "  vectors = []\n",
        "  for word in words:\n",
        "    try:\n",
        "      vector = embedding_model.get_vector(word)\n",
        "    except KeyError:\n",
        "      vector = np.zeros(300)\n",
        "    vectors.append(vector)\n",
        "\n",
        "  for i in range(141-len(words)):\n",
        "    vectors.append(np.zeros(300))\n",
        "\n",
        "  vectors = np.stack(vectors).reshape(1, 141, 300)\n",
        "\n",
        "  predicts = model.predict([vectors])[0]\n",
        "\n",
        "  predicts = np.argmax(predicts, axis=-1)[:len(words)]\n",
        "\n",
        "  labels = []\n",
        "  for predict in predicts:\n",
        "\n",
        "    for key in label_dictionary.keys():\n",
        "      value = label_dictionary[key]\n",
        "      if predict == value:\n",
        "        labels.append(key)\n",
        "        break\n",
        "\n",
        "  print(words)\n",
        "  print(labels)\n",
        "  return labels"
      ],
      "metadata": {
        "id": "r2VDch3QXD9d"
      },
      "execution_count": null,
      "outputs": []
    },
    {
      "cell_type": "code",
      "source": [
        "for text in [\n",
        "  \"This is a test sentence\",\n",
        "  \"There are no mistakes , only opportunities .\",\n",
        "  \"Simplicity is the ultimate sophistication .\",\n",
        "  \"Whatever you do , do it well .\"]:\n",
        "\n",
        "  parse(text, word2vec_model)\n",
        "  print()"
      ],
      "metadata": {
        "colab": {
          "base_uri": "https://localhost:8080/"
        },
        "id": "btMIxXiG6VcF",
        "outputId": "2add10a4-ea03-4172-a0cb-1ba6d51878e4"
      },
      "execution_count": null,
      "outputs": [
        {
          "output_type": "stream",
          "name": "stdout",
          "text": [
            "['This', 'is', 'a', 'test', 'sentence']\n",
            "['4R', '3R', '2R', '1R', 'Root']\n",
            "\n",
            "['There', 'are', 'no', 'mistakes', ',', 'only', 'opportunities', '.']\n",
            "['1R', 'Root', '1R', '2L', '2R', '1R', '3L', '6L']\n",
            "\n",
            "['Simplicity', 'is', 'the', 'ultimate', 'sophistication', '.']\n",
            "['4R', '3R', '2R', '1R', 'Root', '1L']\n",
            "\n",
            "['Whatever', 'you', 'do', ',', 'do', 'it', 'well', '.']\n",
            "['2R', '1R', '2R', '1R', '2L', '1L', '2L', 'Root']\n",
            "\n"
          ]
        }
      ]
    },
    {
      "cell_type": "code",
      "source": [
        ""
      ],
      "metadata": {
        "id": "1Se0c9t59ePh"
      },
      "execution_count": null,
      "outputs": []
    }
  ]
}