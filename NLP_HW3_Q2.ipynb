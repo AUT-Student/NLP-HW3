{
  "nbformat": 4,
  "nbformat_minor": 0,
  "metadata": {
    "colab": {
      "name": "NLP-HW3-Q2.ipynb",
      "provenance": [],
      "collapsed_sections": [],
      "toc_visible": true,
      "authorship_tag": "ABX9TyM1DjrwIFAOVLSwIBWLUZ7+",
      "include_colab_link": true
    },
    "kernelspec": {
      "name": "python3",
      "display_name": "Python 3"
    },
    "language_info": {
      "name": "python"
    }
  },
  "cells": [
    {
      "cell_type": "markdown",
      "metadata": {
        "id": "view-in-github",
        "colab_type": "text"
      },
      "source": [
        "<a href=\"https://colab.research.google.com/github/AUT-Student/NLP-HW3/blob/main/NLP_HW3_Q2.ipynb\" target=\"_parent\"><img src=\"https://colab.research.google.com/assets/colab-badge.svg\" alt=\"Open In Colab\"/></a>"
      ]
    },
    {
      "cell_type": "markdown",
      "source": [
        "# Libraries"
      ],
      "metadata": {
        "id": "PDHYaymPspGE"
      }
    },
    {
      "cell_type": "code",
      "source": [
        "import numpy as np\n",
        "import pandas as pd\n",
        "\n",
        "from gensim.models.word2vec import Word2Vec\n",
        "import gensim.downloader as gensim_api\n",
        "\n",
        "import tensorflow as tf\n",
        "import tensorflow.keras as keras\n",
        "from keras.layers import LSTM, Dense, Input, Embedding, Bidirectional, TimeDistributed\n",
        "from keras.callbacks import EarlyStopping\n",
        "from keras.models import Sequential"
      ],
      "metadata": {
        "id": "4MrF0WJNsrSq"
      },
      "execution_count": 1,
      "outputs": []
    },
    {
      "cell_type": "markdown",
      "source": [
        "# Dataset"
      ],
      "metadata": {
        "id": "sw8b4NRMsmu-"
      }
    },
    {
      "cell_type": "code",
      "execution_count": 2,
      "metadata": {
        "colab": {
          "base_uri": "https://localhost:8080/"
        },
        "id": "qZY9QbGJsacm",
        "outputId": "02231acb-5289-4dec-cf89-038cdaa08794"
      },
      "outputs": [
        {
          "output_type": "stream",
          "name": "stdout",
          "text": [
            "Downloading...\n",
            "From: https://drive.google.com/uc?id=11WeeMttH6I6MJ0t1h7FVSEtw0lKwpRA6\n",
            "To: /content/dev.conll\n",
            "100% 478k/478k [00:00<00:00, 25.6MB/s]\n",
            "Downloading...\n",
            "From: https://drive.google.com/uc?id=1gLGNxjQzy6C8y4Oivr8etU1MMGfuKuEE\n",
            "To: /content/test.conll\n",
            "100% 677k/677k [00:00<00:00, 35.5MB/s]\n",
            "Downloading...\n",
            "From: https://drive.google.com/uc?id=127-sOeW6KMf6XNSAVM3bGjfwnmW0NciU\n",
            "To: /content/train.conll\n",
            "100% 11.4M/11.4M [00:00<00:00, 77.3MB/s]\n"
          ]
        }
      ],
      "source": [
        "!gdown 11WeeMttH6I6MJ0t1h7FVSEtw0lKwpRA6\n",
        "!gdown 1gLGNxjQzy6C8y4Oivr8etU1MMGfuKuEE\n",
        "!gdown 127-sOeW6KMf6XNSAVM3bGjfwnmW0NciU"
      ]
    },
    {
      "cell_type": "code",
      "source": [
        "def dependency_create(row):\n",
        "  dependency_index = row[\"DependencyIndex\"]\n",
        "  index = row[\"Index\"]\n",
        "\n",
        "  if dependency_index == 0:\n",
        "    return \"Root\"\n",
        "  else:\n",
        "    different = dependency_index - index\n",
        "\n",
        "    if different > 0:\n",
        "      return f\"{different}R\"\n",
        "    elif different < 0:\n",
        "      return f\"{abs(different)}L\"\n",
        "    else:\n",
        "      raise Exception(row)"
      ],
      "metadata": {
        "id": "qssCLRjyiz7v"
      },
      "execution_count": 3,
      "outputs": []
    },
    {
      "cell_type": "code",
      "source": [
        "def load_and_preprocess_dataset(path):\n",
        "  dataset = pd.read_csv(path, delimiter=\"\\t\", header=None, names=[\"Index\", \"Word\", \"DependencyIndex\"])\n",
        "  dataset = dataset.dropna()\n",
        "  dataset[\"Index\"] = dataset[\"Index\"].astype(int)\n",
        "  dataset[\"DependencyIndex\"] = dataset[\"DependencyIndex\"].astype(int)\n",
        "  dataset[\"Dependency\"] = dataset.apply(dependency_create, axis=1)\n",
        "\n",
        "  return dataset"
      ],
      "metadata": {
        "id": "V3CkceiVuUm3"
      },
      "execution_count": 4,
      "outputs": []
    },
    {
      "cell_type": "code",
      "source": [
        "train_dataset = load_and_preprocess_dataset(\"/content/train.conll\")\n",
        "valid_dataset = load_and_preprocess_dataset(\"/content/dev.conll\")\n",
        "test_dataset = load_and_preprocess_dataset(\"/content/test.conll\")"
      ],
      "metadata": {
        "id": "QiMnRVuuszxO"
      },
      "execution_count": 5,
      "outputs": []
    },
    {
      "cell_type": "code",
      "source": [
        "label_dictionary = {\"PAD\": 0}\n",
        "\n",
        "for i, label in enumerate(set(train_dataset[\"Dependency\"].values.tolist() +\n",
        "                              valid_dataset[\"Dependency\"].values.tolist() +\n",
        "                              test_dataset[\"Dependency\"].values.tolist())):\n",
        "  label_dictionary[label] = i+1"
      ],
      "metadata": {
        "id": "nHeb23kj5mzS"
      },
      "execution_count": 6,
      "outputs": []
    },
    {
      "cell_type": "code",
      "source": [
        "len(label_dictionary)"
      ],
      "metadata": {
        "colab": {
          "base_uri": "https://localhost:8080/"
        },
        "id": "S7VgSz3KqMvg",
        "outputId": "e081d18a-4082-4afa-b8c7-6b93062418f6"
      },
      "execution_count": 7,
      "outputs": [
        {
          "output_type": "execute_result",
          "data": {
            "text/plain": [
              "159"
            ]
          },
          "metadata": {},
          "execution_count": 7
        }
      ]
    },
    {
      "cell_type": "code",
      "source": [
        "max(max(train_dataset[\"Index\"].values), max(valid_dataset[\"Index\"].values), max(test_dataset[\"Index\"].values))"
      ],
      "metadata": {
        "colab": {
          "base_uri": "https://localhost:8080/"
        },
        "id": "FoePuY3FQX31",
        "outputId": "841831a8-e0c0-4b70-d6c7-f55c1450d658"
      },
      "execution_count": 8,
      "outputs": [
        {
          "output_type": "execute_result",
          "data": {
            "text/plain": [
              "141"
            ]
          },
          "metadata": {},
          "execution_count": 8
        }
      ]
    },
    {
      "cell_type": "code",
      "source": [
        "def convert_to_sequence(dataset):\n",
        "  sequenced_dataset = []\n",
        "\n",
        "  for i, item in dataset.iterrows():\n",
        "    if item[\"Index\"] == 1:\n",
        "      if i>0:\n",
        "        sequenced_dataset.append({\"Words\": new_words, \"Labels\": new_labels})\n",
        "      new_words = [item[\"Word\"]]\n",
        "      new_labels = [item[\"Dependency\"]]\n",
        "    else:\n",
        "      new_words.append(item[\"Word\"])\n",
        "      new_labels.append(item[\"Dependency\"])\n",
        "  \n",
        "  sequenced_dataset.append({\"Words\": new_words, \"Labels\": new_labels})\n",
        "  return pd.DataFrame(sequenced_dataset)"
      ],
      "metadata": {
        "id": "HOJ3BPYVQ-Kx"
      },
      "execution_count": 9,
      "outputs": []
    },
    {
      "cell_type": "code",
      "source": [
        "train_dataset = convert_to_sequence(train_dataset)\n",
        "valid_dataset = convert_to_sequence(valid_dataset)\n",
        "test_dataset = convert_to_sequence(test_dataset)"
      ],
      "metadata": {
        "id": "6FGsGs15S7OM"
      },
      "execution_count": 10,
      "outputs": []
    },
    {
      "cell_type": "markdown",
      "source": [
        "# Word2Vec"
      ],
      "metadata": {
        "id": "GbT_BSCkslbl"
      }
    },
    {
      "cell_type": "code",
      "source": [
        "print(gensim_api.load(\"word2vec-google-news-300\", return_path=True))"
      ],
      "metadata": {
        "colab": {
          "base_uri": "https://localhost:8080/"
        },
        "id": "YUxKJP4Ir78e",
        "outputId": "f6b58598-0f38-4356-c236-5e463a9272aa"
      },
      "execution_count": 11,
      "outputs": [
        {
          "output_type": "stream",
          "name": "stdout",
          "text": [
            "/root/gensim-data/word2vec-google-news-300/word2vec-google-news-300.gz\n"
          ]
        }
      ]
    },
    {
      "cell_type": "code",
      "source": [
        "word2vec_model = gensim_api.load(\"word2vec-google-news-300\")"
      ],
      "metadata": {
        "id": "P2IuiFpbsYOE"
      },
      "execution_count": 12,
      "outputs": []
    },
    {
      "cell_type": "code",
      "source": [
        "def apply_embedding(row):\n",
        "  vectors = []\n",
        "  for word in row[\"Words\"]:\n",
        "    try:\n",
        "      vector = word2vec_model.get_vector(word)\n",
        "    except KeyError:\n",
        "      vector = np.zeros(300)\n",
        "    vectors.append(vector)\n",
        "\n",
        "  for i in range(141-len(row[\"Words\"])):\n",
        "    vectors.append(np.zeros(300))\n",
        "\n",
        "  return np.stack(vectors)"
      ],
      "metadata": {
        "id": "jdN6kgdj2dms"
      },
      "execution_count": 13,
      "outputs": []
    },
    {
      "cell_type": "code",
      "source": [
        "def apply_label_index(row):\n",
        "  labels = []\n",
        "  for label in row[\"Labels\"]:\n",
        "    labels.append(label_dictionary[label])\n",
        "\n",
        "  for i in range(141-len(row[\"Labels\"])):\n",
        "    labels.append(label_dictionary[\"PAD\"])\n",
        "  \n",
        "  return np.stack(labels)"
      ],
      "metadata": {
        "id": "oLgSh1_Y6p5J"
      },
      "execution_count": 14,
      "outputs": []
    },
    {
      "cell_type": "code",
      "source": [
        "valid_dataset[\"Vector\"] = valid_dataset.apply(apply_embedding, axis=1)\n",
        "valid_dataset[\"LabelIndex\"] = valid_dataset.apply(apply_label_index, axis=1)\n",
        "test_dataset[\"Vector\"] = test_dataset.apply(apply_embedding, axis=1)\n",
        "test_dataset[\"LabelIndex\"] = test_dataset.apply(apply_label_index, axis=1)"
      ],
      "metadata": {
        "id": "vM8Xti0BEK3C"
      },
      "execution_count": 15,
      "outputs": []
    },
    {
      "cell_type": "code",
      "source": [
        "train_dataset = train_dataset.iloc[:1700]\n",
        "\n",
        "train_dataset[\"Vector\"] = train_dataset.apply(apply_embedding, axis=1)\n",
        "train_dataset[\"LabelIndex\"] = train_dataset.apply(apply_label_index, axis=1)"
      ],
      "metadata": {
        "id": "o7JddyJTyo7F"
      },
      "execution_count": 16,
      "outputs": []
    },
    {
      "cell_type": "markdown",
      "source": [
        "# BiLSTM Model"
      ],
      "metadata": {
        "id": "JoWZ32S5ojMA"
      }
    },
    {
      "cell_type": "code",
      "source": [
        "class BiLSTM(keras.Model):\n",
        "  def __init__(self):\n",
        "    super().__init__()\n",
        "    self.model = Sequential([\n",
        "                             Input((141, 300)),\n",
        "                            #  word2vec_model.get_keras_embedding(),\n",
        "                            #  Embedding(input_length=141 ,trainable=False),\n",
        "                             Bidirectional(LSTM(32, return_sequences=True)),\n",
        "                             TimeDistributed(Dense(159, activation=\"softmax\"))\n",
        "    ])\n",
        "  \n",
        "  def call(self, inputs):\n",
        "    return self.model(inputs)"
      ],
      "metadata": {
        "id": "nTHIJe_mgumH"
      },
      "execution_count": 17,
      "outputs": []
    },
    {
      "cell_type": "code",
      "source": [
        "bilstm_model = BiLSTM()"
      ],
      "metadata": {
        "id": "o7xMgHlm9JiI"
      },
      "execution_count": 23,
      "outputs": []
    },
    {
      "cell_type": "code",
      "source": [
        "bilstm_model.compile(optimizer=\"Adam\", loss=\"sparse_categorical_crossentropy\", metrics=[\"Accuracy\"])"
      ],
      "metadata": {
        "id": "x-OEj3RmzCjm"
      },
      "execution_count": 24,
      "outputs": []
    },
    {
      "cell_type": "code",
      "source": [
        "es_callback = EarlyStopping(monitor=\"val_accuracy\", patience=4, restore_best_weights=True)"
      ],
      "metadata": {
        "id": "u8FqSJKR0OvT"
      },
      "execution_count": 25,
      "outputs": []
    },
    {
      "cell_type": "code",
      "source": [
        "bilstm_model.fit(x=np.stack(train_dataset[\"Vector\"].values),\n",
        "                 y=np.stack(train_dataset[\"LabelIndex\"].values),\n",
        "                 epochs=10,\n",
        "                 validation_data=(np.stack(valid_dataset[\"Vector\"].values),\n",
        "                                  np.stack(valid_dataset[\"LabelIndex\"].values)))"
      ],
      "metadata": {
        "colab": {
          "base_uri": "https://localhost:8080/"
        },
        "id": "7djjTkcG0m9p",
        "outputId": "974b7d1f-1e3e-4553-9b7c-762b8b8008c7"
      },
      "execution_count": 26,
      "outputs": [
        {
          "output_type": "stream",
          "name": "stdout",
          "text": [
            "Epoch 1/10\n",
            "54/54 [==============================] - 18s 254ms/step - loss: 3.1303 - Accuracy: 0.8244 - val_loss: 0.8404 - val_Accuracy: 0.8328\n",
            "Epoch 2/10\n",
            "54/54 [==============================] - 11s 207ms/step - loss: 0.6794 - Accuracy: 0.8520 - val_loss: 0.5693 - val_Accuracy: 0.8725\n",
            "Epoch 3/10\n",
            "54/54 [==============================] - 11s 204ms/step - loss: 0.5439 - Accuracy: 0.8720 - val_loss: 0.5028 - val_Accuracy: 0.8786\n",
            "Epoch 4/10\n",
            "54/54 [==============================] - 12s 216ms/step - loss: 0.5000 - Accuracy: 0.8746 - val_loss: 0.4742 - val_Accuracy: 0.8796\n",
            "Epoch 5/10\n",
            "54/54 [==============================] - 12s 215ms/step - loss: 0.4757 - Accuracy: 0.8755 - val_loss: 0.4554 - val_Accuracy: 0.8802\n",
            "Epoch 6/10\n",
            "54/54 [==============================] - 10s 193ms/step - loss: 0.4584 - Accuracy: 0.8763 - val_loss: 0.4405 - val_Accuracy: 0.8817\n",
            "Epoch 7/10\n",
            "54/54 [==============================] - 11s 203ms/step - loss: 0.4437 - Accuracy: 0.8786 - val_loss: 0.4277 - val_Accuracy: 0.8848\n",
            "Epoch 8/10\n",
            "54/54 [==============================] - 11s 206ms/step - loss: 0.4308 - Accuracy: 0.8812 - val_loss: 0.4161 - val_Accuracy: 0.8866\n",
            "Epoch 9/10\n",
            "54/54 [==============================] - 11s 209ms/step - loss: 0.4186 - Accuracy: 0.8831 - val_loss: 0.4057 - val_Accuracy: 0.8884\n",
            "Epoch 10/10\n",
            "54/54 [==============================] - 11s 206ms/step - loss: 0.4078 - Accuracy: 0.8856 - val_loss: 0.3962 - val_Accuracy: 0.8903\n"
          ]
        },
        {
          "output_type": "execute_result",
          "data": {
            "text/plain": [
              "<keras.callbacks.History at 0x7f7e30020c90>"
            ]
          },
          "metadata": {},
          "execution_count": 26
        }
      ]
    },
    {
      "cell_type": "code",
      "source": [
        ""
      ],
      "metadata": {
        "id": "Jflo1jNA2aJF"
      },
      "execution_count": null,
      "outputs": []
    }
  ]
}