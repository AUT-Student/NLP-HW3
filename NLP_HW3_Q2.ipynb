{
  "nbformat": 4,
  "nbformat_minor": 0,
  "metadata": {
    "colab": {
      "name": "NLP-HW3-Q2.ipynb",
      "provenance": [],
      "collapsed_sections": [],
      "toc_visible": true,
      "authorship_tag": "ABX9TyPEKBOQiwmMxCFJGARYqKin",
      "include_colab_link": true
    },
    "kernelspec": {
      "name": "python3",
      "display_name": "Python 3"
    },
    "language_info": {
      "name": "python"
    },
    "accelerator": "GPU"
  },
  "cells": [
    {
      "cell_type": "markdown",
      "metadata": {
        "id": "view-in-github",
        "colab_type": "text"
      },
      "source": [
        "<a href=\"https://colab.research.google.com/github/AUT-Student/NLP-HW3/blob/main/NLP_HW3_Q2.ipynb\" target=\"_parent\"><img src=\"https://colab.research.google.com/assets/colab-badge.svg\" alt=\"Open In Colab\"/></a>"
      ]
    },
    {
      "cell_type": "markdown",
      "source": [
        "# Libraries"
      ],
      "metadata": {
        "id": "PDHYaymPspGE"
      }
    },
    {
      "cell_type": "code",
      "source": [
        "import numpy as np\n",
        "import pandas as pd\n",
        "import matplotlib.pyplot as plt\n",
        "\n",
        "from gensim.models.word2vec import Word2Vec\n",
        "import gensim.downloader as gensim_api\n",
        "\n",
        "import tensorflow as tf\n",
        "import tensorflow.keras as keras\n",
        "from keras.layers import LSTM, Dense, Input, Embedding, Bidirectional, TimeDistributed\n",
        "from keras.callbacks import EarlyStopping\n",
        "from keras.models import Sequential\n",
        "from keras import backend as K"
      ],
      "metadata": {
        "id": "4MrF0WJNsrSq"
      },
      "execution_count": 1,
      "outputs": []
    },
    {
      "cell_type": "markdown",
      "source": [
        "# Dataset"
      ],
      "metadata": {
        "id": "sw8b4NRMsmu-"
      }
    },
    {
      "cell_type": "code",
      "execution_count": 2,
      "metadata": {
        "id": "qZY9QbGJsacm",
        "colab": {
          "base_uri": "https://localhost:8080/"
        },
        "outputId": "895166e9-7ad3-4cdb-88ae-2384c4d62017"
      },
      "outputs": [
        {
          "output_type": "stream",
          "name": "stdout",
          "text": [
            "Downloading...\n",
            "From: https://drive.google.com/uc?id=11WeeMttH6I6MJ0t1h7FVSEtw0lKwpRA6\n",
            "To: /content/dev.conll\n",
            "100% 478k/478k [00:00<00:00, 114MB/s]\n",
            "Downloading...\n",
            "From: https://drive.google.com/uc?id=1gLGNxjQzy6C8y4Oivr8etU1MMGfuKuEE\n",
            "To: /content/test.conll\n",
            "100% 677k/677k [00:00<00:00, 155MB/s]\n",
            "Downloading...\n",
            "From: https://drive.google.com/uc?id=127-sOeW6KMf6XNSAVM3bGjfwnmW0NciU\n",
            "To: /content/train.conll\n",
            "100% 11.4M/11.4M [00:00<00:00, 185MB/s]\n"
          ]
        }
      ],
      "source": [
        "!gdown 11WeeMttH6I6MJ0t1h7FVSEtw0lKwpRA6\n",
        "!gdown 1gLGNxjQzy6C8y4Oivr8etU1MMGfuKuEE\n",
        "!gdown 127-sOeW6KMf6XNSAVM3bGjfwnmW0NciU"
      ]
    },
    {
      "cell_type": "code",
      "source": [
        "def dependency_create(row):\n",
        "  dependency_index = row[\"DependencyIndex\"]\n",
        "  index = row[\"Index\"]\n",
        "\n",
        "  if dependency_index == 0:\n",
        "    return \"Root\"\n",
        "  else:\n",
        "    different = dependency_index - index\n",
        "\n",
        "    if different > 0:\n",
        "      return f\"{different}R\"\n",
        "    elif different < 0:\n",
        "      return f\"{abs(different)}L\"\n",
        "    else:\n",
        "      raise Exception(row)"
      ],
      "metadata": {
        "id": "qssCLRjyiz7v"
      },
      "execution_count": 3,
      "outputs": []
    },
    {
      "cell_type": "code",
      "source": [
        "def load_and_preprocess_dataset(path):\n",
        "  dataset = pd.read_csv(path, delimiter=\"\\t\", header=None, names=[\"Index\", \"Word\", \"DependencyIndex\"])\n",
        "  dataset = dataset.dropna()\n",
        "  dataset[\"Index\"] = dataset[\"Index\"].astype(int)\n",
        "  dataset[\"DependencyIndex\"] = dataset[\"DependencyIndex\"].astype(int)\n",
        "  dataset[\"Dependency\"] = dataset.apply(dependency_create, axis=1)\n",
        "\n",
        "  return dataset"
      ],
      "metadata": {
        "id": "V3CkceiVuUm3"
      },
      "execution_count": 4,
      "outputs": []
    },
    {
      "cell_type": "code",
      "source": [
        "train_dataset = load_and_preprocess_dataset(\"/content/train.conll\")\n",
        "valid_dataset = load_and_preprocess_dataset(\"/content/dev.conll\")\n",
        "test_dataset = load_and_preprocess_dataset(\"/content/test.conll\")"
      ],
      "metadata": {
        "id": "QiMnRVuuszxO"
      },
      "execution_count": 5,
      "outputs": []
    },
    {
      "cell_type": "code",
      "source": [
        "label_dictionary = {\"PAD\": 0}\n",
        "\n",
        "for i, label in enumerate(set(train_dataset[\"Dependency\"].values.tolist() +\n",
        "                              valid_dataset[\"Dependency\"].values.tolist() +\n",
        "                              test_dataset[\"Dependency\"].values.tolist())):\n",
        "  label_dictionary[label] = i+1"
      ],
      "metadata": {
        "id": "nHeb23kj5mzS"
      },
      "execution_count": 6,
      "outputs": []
    },
    {
      "cell_type": "code",
      "source": [
        "len(label_dictionary)"
      ],
      "metadata": {
        "id": "S7VgSz3KqMvg",
        "colab": {
          "base_uri": "https://localhost:8080/"
        },
        "outputId": "70e79ecf-4a9b-411e-9606-ea4075c81d6c"
      },
      "execution_count": 7,
      "outputs": [
        {
          "output_type": "execute_result",
          "data": {
            "text/plain": [
              "159"
            ]
          },
          "metadata": {},
          "execution_count": 7
        }
      ]
    },
    {
      "cell_type": "code",
      "source": [
        "max(max(train_dataset[\"Index\"].values), max(valid_dataset[\"Index\"].values), max(test_dataset[\"Index\"].values))"
      ],
      "metadata": {
        "id": "FoePuY3FQX31",
        "colab": {
          "base_uri": "https://localhost:8080/"
        },
        "outputId": "47d723e5-fb69-418a-9738-9ef8d2a0daa4"
      },
      "execution_count": 8,
      "outputs": [
        {
          "output_type": "execute_result",
          "data": {
            "text/plain": [
              "141"
            ]
          },
          "metadata": {},
          "execution_count": 8
        }
      ]
    },
    {
      "cell_type": "code",
      "source": [
        "def convert_to_sequence(dataset):\n",
        "  sequenced_dataset = []\n",
        "\n",
        "  for i, item in dataset.iterrows():\n",
        "    if item[\"Index\"] == 1:\n",
        "      if i>0:\n",
        "        sequenced_dataset.append({\"Words\": new_words, \"Labels\": new_labels})\n",
        "      new_words = [item[\"Word\"]]\n",
        "      new_labels = [item[\"Dependency\"]]\n",
        "    else:\n",
        "      new_words.append(item[\"Word\"])\n",
        "      new_labels.append(item[\"Dependency\"])\n",
        "  \n",
        "  sequenced_dataset.append({\"Words\": new_words, \"Labels\": new_labels})\n",
        "  return pd.DataFrame(sequenced_dataset)"
      ],
      "metadata": {
        "id": "HOJ3BPYVQ-Kx"
      },
      "execution_count": 9,
      "outputs": []
    },
    {
      "cell_type": "code",
      "source": [
        "train_dataset = convert_to_sequence(train_dataset)\n",
        "valid_dataset = convert_to_sequence(valid_dataset)\n",
        "test_dataset = convert_to_sequence(test_dataset)"
      ],
      "metadata": {
        "id": "6FGsGs15S7OM"
      },
      "execution_count": 10,
      "outputs": []
    },
    {
      "cell_type": "markdown",
      "source": [
        "# Word2Vec"
      ],
      "metadata": {
        "id": "GbT_BSCkslbl"
      }
    },
    {
      "cell_type": "code",
      "source": [
        "print(gensim_api.load(\"word2vec-google-news-300\", return_path=True))"
      ],
      "metadata": {
        "id": "YUxKJP4Ir78e",
        "colab": {
          "base_uri": "https://localhost:8080/"
        },
        "outputId": "c09ca8ec-13a3-4ba4-9483-b364a0c754c3"
      },
      "execution_count": 11,
      "outputs": [
        {
          "output_type": "stream",
          "name": "stdout",
          "text": [
            "[==================================================] 100.0% 1662.8/1662.8MB downloaded\n",
            "/root/gensim-data/word2vec-google-news-300/word2vec-google-news-300.gz\n"
          ]
        }
      ]
    },
    {
      "cell_type": "code",
      "source": [
        "word2vec_model = gensim_api.load(\"word2vec-google-news-300\")"
      ],
      "metadata": {
        "id": "P2IuiFpbsYOE"
      },
      "execution_count": 12,
      "outputs": []
    },
    {
      "cell_type": "code",
      "source": [
        "def apply_embedding(row):\n",
        "  vectors = []\n",
        "  for word in row[\"Words\"]:\n",
        "    try:\n",
        "      vector = word2vec_model.get_vector(word)\n",
        "    except KeyError:\n",
        "      vector = np.zeros(300)\n",
        "    vectors.append(vector)\n",
        "\n",
        "  for i in range(141-len(row[\"Words\"])):\n",
        "    vectors.append(np.zeros(300))\n",
        "\n",
        "  return np.stack(vectors)"
      ],
      "metadata": {
        "id": "jdN6kgdj2dms"
      },
      "execution_count": 13,
      "outputs": []
    },
    {
      "cell_type": "code",
      "source": [
        "def apply_label_index(row):\n",
        "  labels = []\n",
        "  for label in row[\"Labels\"]:\n",
        "    labels.append(label_dictionary[label])\n",
        "\n",
        "  for i in range(141-len(row[\"Labels\"])):\n",
        "    labels.append(label_dictionary[\"PAD\"])\n",
        "  \n",
        "  return np.stack(labels)"
      ],
      "metadata": {
        "id": "oLgSh1_Y6p5J"
      },
      "execution_count": 14,
      "outputs": []
    },
    {
      "cell_type": "code",
      "source": [
        "class TrainDatasetGenerator(keras.utils.Sequence):\n",
        "  def __init__(self, train_dataset, batch_size):\n",
        "    self.train_dataset = train_dataset\n",
        "    self.batch_size = batch_size\n",
        "\n",
        "  def __len__(self):\n",
        "    return int(len(self.train_dataset)/self.batch_size)\n",
        "  \n",
        "  def __getitem__(self, idx):\n",
        "    batch_vectors = np.stack(train_dataset.iloc[idx * self.batch_size : (idx+1) * self.batch_size].apply(apply_embedding, axis=1).values)\n",
        "    batch_labelindex = np.stack(train_dataset.iloc[idx * self.batch_size : (idx+1) * self.batch_size].apply(apply_label_index, axis=1).values)\n",
        "\n",
        "    return batch_vectors, batch_labelindex"
      ],
      "metadata": {
        "id": "5XhmR9M87yzf"
      },
      "execution_count": 15,
      "outputs": []
    },
    {
      "cell_type": "code",
      "source": [
        "valid_dataset[\"Vector\"] = valid_dataset.apply(apply_embedding, axis=1)\n",
        "valid_dataset[\"LabelIndex\"] = valid_dataset.apply(apply_label_index, axis=1)\n",
        "test_dataset[\"Vector\"] = test_dataset.apply(apply_embedding, axis=1)\n",
        "test_dataset[\"LabelIndex\"] = test_dataset.apply(apply_label_index, axis=1)"
      ],
      "metadata": {
        "id": "vM8Xti0BEK3C"
      },
      "execution_count": 16,
      "outputs": []
    },
    {
      "cell_type": "markdown",
      "source": [
        "# BiLSTM Model"
      ],
      "metadata": {
        "id": "JoWZ32S5ojMA"
      }
    },
    {
      "cell_type": "code",
      "source": [
        "class BiLSTM(keras.Model):\n",
        "  def __init__(self):\n",
        "    super().__init__()\n",
        "    self.model = Sequential([\n",
        "                             Input((141, 300)),\n",
        "                             Bidirectional(LSTM(32, return_sequences=True)),\n",
        "                             TimeDistributed(Dense(159, activation=\"softmax\"))\n",
        "    ])\n",
        "  \n",
        "  def call(self, inputs):\n",
        "    return self.model(inputs)"
      ],
      "metadata": {
        "id": "nTHIJe_mgumH"
      },
      "execution_count": 17,
      "outputs": []
    },
    {
      "cell_type": "code",
      "source": [
        "def ignore_class_accuracy(to_ignore=0):\n",
        "   # Refrence: https://nlpforhackers.io/lstm-pos-tagger-keras/\n",
        "  \n",
        "  def ignore_accuracy(y_true, y_pred):\n",
        "    y_pred_class = K.argmax(y_pred, axis=-1)\n",
        "    y_true_class = K.argmax(y_true, axis=-1)\n",
        "    y_true_class = K.cast(y_true, \"int64\")\n",
        "\n",
        "    ignore_mask = K.cast(K.not_equal(y_pred_class, to_ignore), 'int32')\n",
        "    matches = K.cast(K.equal(y_true_class, y_pred_class), 'int32') * ignore_mask\n",
        "    accuracy = K.sum(matches) / K.maximum(K.sum(ignore_mask), 1)\n",
        "    return accuracy\n",
        "  \n",
        "  return ignore_accuracy"
      ],
      "metadata": {
        "id": "sA7CLu_kDfdp"
      },
      "execution_count": 18,
      "outputs": []
    },
    {
      "cell_type": "code",
      "source": [
        "bilstm_model = BiLSTM()"
      ],
      "metadata": {
        "id": "o7xMgHlm9JiI"
      },
      "execution_count": 19,
      "outputs": []
    },
    {
      "cell_type": "code",
      "source": [
        "bilstm_model.compile(optimizer=\"Adam\", loss=\"sparse_categorical_crossentropy\", metrics=[\"Accuracy\", ignore_class_accuracy(0)])"
      ],
      "metadata": {
        "id": "x-OEj3RmzCjm"
      },
      "execution_count": 20,
      "outputs": []
    },
    {
      "cell_type": "code",
      "source": [
        "es_callback = EarlyStopping(monitor=\"val_loss\", patience=4, restore_best_weights=True)"
      ],
      "metadata": {
        "id": "u8FqSJKR0OvT"
      },
      "execution_count": 21,
      "outputs": []
    },
    {
      "cell_type": "code",
      "source": [
        "train_dataset_generator = TrainDatasetGenerator(train_dataset=train_dataset, batch_size=32)"
      ],
      "metadata": {
        "id": "H4xSfM0X_STj"
      },
      "execution_count": 22,
      "outputs": []
    },
    {
      "cell_type": "code",
      "source": [
        "history = bilstm_model.fit(x=train_dataset_generator,\n",
        "                           epochs=20,\n",
        "                           validation_data=(np.stack(valid_dataset[\"Vector\"].values),\n",
        "                                            np.stack(valid_dataset[\"LabelIndex\"].values)))"
      ],
      "metadata": {
        "colab": {
          "base_uri": "https://localhost:8080/"
        },
        "id": "LDjeKwxS_DX7",
        "outputId": "7d55dc8f-2dec-43a8-bdd3-052f52d1086a"
      },
      "execution_count": null,
      "outputs": [
        {
          "output_type": "stream",
          "name": "stdout",
          "text": [
            "Epoch 1/20\n",
            "1244/1244 [==============================] - 51s 36ms/step - loss: 0.5224 - Accuracy: 0.8899 - ignore_accuracy: 0.3825 - val_loss: 0.3134 - val_Accuracy: 0.9146 - val_ignore_accuracy: 0.5141\n",
            "Epoch 2/20\n",
            "1244/1244 [==============================] - 45s 36ms/step - loss: 0.2709 - Accuracy: 0.9284 - ignore_accuracy: 0.6006 - val_loss: 0.2471 - val_Accuracy: 0.9348 - val_ignore_accuracy: 0.6320\n",
            "Epoch 3/20\n",
            "1244/1244 [==============================] - 46s 37ms/step - loss: 0.2238 - Accuracy: 0.9411 - ignore_accuracy: 0.6692 - val_loss: 0.2148 - val_Accuracy: 0.9424 - val_ignore_accuracy: 0.6686\n",
            "Epoch 4/20\n",
            "1244/1244 [==============================] - 44s 36ms/step - loss: 0.1991 - Accuracy: 0.9468 - ignore_accuracy: 0.6963 - val_loss: 0.1973 - val_Accuracy: 0.9468 - val_ignore_accuracy: 0.6892\n",
            "Epoch 5/20\n",
            "1244/1244 [==============================] - 45s 36ms/step - loss: 0.1843 - Accuracy: 0.9500 - ignore_accuracy: 0.7119 - val_loss: 0.1859 - val_Accuracy: 0.9494 - val_ignore_accuracy: 0.7050\n",
            "Epoch 6/20\n",
            "1244/1244 [==============================] - 48s 38ms/step - loss: 0.1742 - Accuracy: 0.9522 - ignore_accuracy: 0.7240 - val_loss: 0.1776 - val_Accuracy: 0.9513 - val_ignore_accuracy: 0.7142\n",
            "Epoch 7/20\n",
            " 510/1244 [===========>..................] - ETA: 25s - loss: 0.1671 - Accuracy: 0.9538 - ignore_accuracy: 0.7323"
          ]
        }
      ]
    },
    {
      "cell_type": "markdown",
      "source": [
        "# Evaluation"
      ],
      "metadata": {
        "id": "yj1_Kz3JWYRV"
      }
    },
    {
      "cell_type": "code",
      "source": [
        "train_loss = history.history[\"loss\"]\n",
        "valid_loss = history.history[\"val_loss\"]\n",
        "\n",
        "plt.scatter(range(1, len(train_loss)+1), train_loss, color=\"red\")\n",
        "plt.scatter(range(1, len(train_loss)+1), valid_loss, color=\"green\")\n",
        "\n",
        "plt.plot(range(1, len(train_loss)+1), train_loss, color=\"red\", label=\"Train Loss\")\n",
        "plt.plot(range(1, len(train_loss)+1), valid_loss, color=\"green\", label=\"Validation Loss\")\n",
        "\n",
        "plt.legend()\n",
        "plt.title(\"Loss changes in training\")\n",
        "plt.xlabel(\"Epoch\")\n",
        "plt.ylabel(\"Loss\")\n",
        "plt.show()"
      ],
      "metadata": {
        "id": "Jflo1jNA2aJF",
        "colab": {
          "base_uri": "https://localhost:8080/",
          "height": 295
        },
        "outputId": "e7c9314a-c466-4ac5-9a46-436275c20088"
      },
      "execution_count": null,
      "outputs": [
        {
          "output_type": "display_data",
          "data": {
            "text/plain": [
              "<Figure size 432x288 with 1 Axes>"
            ],
            "image/png": "[encoded data removed]"
          },
          "metadata": {
            "needs_background": "light"
          }
        }
      ]
    },
    {
      "cell_type": "code",
      "source": [
        ""
      ],
      "metadata": {
        "id": "r2VDch3QXD9d"
      },
      "execution_count": null,
      "outputs": []
    }
  ]
}